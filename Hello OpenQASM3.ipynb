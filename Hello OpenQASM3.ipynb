{
 "cells": [
  {
   "cell_type": "markdown",
   "metadata": {},
   "source": [
    "# Hello OpenQASM3\n",
    "#### @Quantom  & @Micheal Healy & @Hoss Ajallooiean - Qiskit Slack \n",
    "#### @taalexander & @mbhealy & @katetsu - Github\n",
    "\n",
    "We'll be using Qiskit throughout this tutorial. As OpenQASM3 is still in alpha support this tutorial requires some special branches to be installed to access supporting hardware. This notebook will guide your through getting setup."
   ]
  },
  {
   "cell_type": "markdown",
   "metadata": {},
   "source": [
    "### Preamble"
   ]
  },
  {
   "cell_type": "code",
   "execution_count": 1,
   "metadata": {},
   "outputs": [],
   "source": [
    "import sys\n",
    "import warnings\n",
    "\n",
    "if not sys.warnoptions:\n",
    "    warnings.simplefilter(\"ignore\")"
   ]
  },
  {
   "cell_type": "markdown",
   "metadata": {},
   "source": [
    "### Installation"
   ]
  },
  {
   "cell_type": "markdown",
   "metadata": {},
   "source": [
    "The tutorial consists of a single main notebook and two exercise notebooks. There are also a number of ancillary Python files and images. The notebooks can be run locally or through IQX.\n",
    "\n",
    "Please follow one of the installation guides below to get started:"
   ]
  },
  {
   "cell_type": "markdown",
   "metadata": {},
   "source": [
    "### IQX"
   ]
  },
  {
   "cell_type": "markdown",
   "metadata": {},
   "source": [
    "- [Sign up for an IQX account](https://quantum-computing.ibm.com/)\n",
    "- Git clone or download the tutorial notebooks and extra files [here](https://github.com/Travis-S-IBM/IBM-Quantum-QCE20-Tutorials/tree/master/Hardware)\n",
    "- Upload **all files** in the Qiskit pulse hardware tutorial [here](https://github.com/Travis-S-IBM/IBM-Quantum-QCE20-Tutorials/blob/master/Uploading.md) to the IQX following these [instructions](https://github.ibm.com/Travis-Scholten/qce20-tutorials/blob/master/Uploading.md)\n",
    "    - It is Ok if you don't upload the image files as the notebooks will still run, there just won't be images.\n",
    "    - You will need the notebooks `*.ipynb`, `*.py` files, and `*.json` files.\n",
    "- Click the notebook you want to run in IQX to launch it.\n",
    "- Great, you should be installed! Goto the \"First Experiment\" section"
   ]
  },
  {
   "cell_type": "markdown",
   "metadata": {},
   "source": [
    "### Local"
   ]
  },
  {
   "cell_type": "markdown",
   "metadata": {},
   "source": [
    "- Install Qiskit by following these [instructions](https://qiskit.org/documentation/install.html).\n",
    "    - Remember to setup your IQX key\n",
    "- Git clone or download the IEEE IBM Quantum tutorial repository. `git clone git@github.com:Travis-S-IBM/IBM-Quantum-QCE20-Tutorials.git`\n",
    "    - Notebooks and extra files for this tutorial can be found [here](https://github.com/Travis-S-IBM/IBM-Quantum-QCE20-Tutorials/tree/master/Hardware). Navigate to this folder\n",
    "- Make sure you have version >0.20 installed:\n",
    "- Make sure to install Jupyter notebook and matplotlib `pip install jupyter matplotlib scipy`\n",
    "- Launch Jupyter notebook `jupyter notebook` in [this](https://github.com/Travis-S-IBM/IBM-Quantum-QCE20-Tutorials/tree/master/Hardware) folder root\n",
    "- Open up this notebook \"Hello Pulse\" and run to check your installation and run your first pulse program on real hardware."
   ]
  },
  {
   "cell_type": "code",
   "execution_count": 2,
   "metadata": {},
   "outputs": [
    {
     "data": {
      "text/html": [
       "<h3>Version Information</h3><table><tr><th>Qiskit Software</th><th>Version</th></tr><tr><td>Qiskit</td><td>0.20.0</td></tr><tr><td>Terra</td><td>0.15.2</td></tr><tr><td>Aer</td><td>0.6.1</td></tr><tr><td>Ignis</td><td>0.4.0</td></tr><tr><td>Aqua</td><td>0.7.5</td></tr><tr><td>IBM Q Provider</td><td>0.8.0</td></tr><tr><th>System information</th></tr><tr><td>Python</td><td>3.8.5 (default, Aug  5 2020, 03:39:04) \n",
       "[Clang 10.0.0 ]</td></tr><tr><td>OS</td><td>Darwin</td></tr><tr><td>CPUs</td><td>8</td></tr><tr><td>Memory (Gb)</td><td>32.0</td></tr><tr><td colspan='2'>Tue Oct 13 10:15:55 2020 ADT</td></tr></table>"
      ],
      "text/plain": [
       "<IPython.core.display.HTML object>"
      ]
     },
     "metadata": {},
     "output_type": "display_data"
    }
   ],
   "source": [
    "import qiskit.tools.jupyter\n",
    "\n",
    "%qiskit_version_table"
   ]
  },
  {
   "cell_type": "markdown",
   "metadata": {},
   "source": [
    "- Launch this tutorial notebook from Jupyter in the tutorial root folder\n",
    "- Great, you should be installed! Goto the \"First Experiment\" section"
   ]
  },
  {
   "cell_type": "markdown",
   "metadata": {},
   "source": [
    "## First Experiment\n",
    "Let's test out our installation by running our first pulse experiment on a backend. Here we will load a backend with pulse access, create a circuit to prepare and measure a hadamard and then lower this program to its pulse schedule representation before running it on the hardware."
   ]
  },
  {
   "cell_type": "markdown",
   "metadata": {},
   "source": [
    "Load our backend. We will be using `ibmq_rome`, with a hub/group/project that has access to pulse for today."
   ]
  },
  {
   "cell_type": "code",
   "execution_count": 3,
   "metadata": {},
   "outputs": [],
   "source": [
    "hub = 'ibm-q-community'\n",
    "group = 'ieee-session'\n",
    "project = 'main'\n",
    "backend_name = 'ibmq_rome'"
   ]
  },
  {
   "cell_type": "code",
   "execution_count": 4,
   "metadata": {},
   "outputs": [],
   "source": [
    "from qiskit import IBMQ\n",
    "# load account credentials\n",
    "IBMQ.load_account()\n",
    "# load provider\n",
    "provider = IBMQ.get_provider(hub=hub, group=group, project=project)\n",
    "# Get our backend\n",
    "backend = provider.get_backend(backend_name)"
   ]
  },
  {
   "cell_type": "markdown",
   "metadata": {},
   "source": [
    "Prepare our circuit:"
   ]
  },
  {
   "cell_type": "code",
   "execution_count": 5,
   "metadata": {},
   "outputs": [
    {
     "data": {
      "text/html": [
       "<pre style=\"word-wrap: normal;white-space: pre;background: #fff0;line-height: 1.1;font-family: &quot;Courier New&quot;,Courier,monospace\">     ┌───┐┌─┐\n",
       "q_0: ┤ H ├┤M├\n",
       "     └───┘└╥┘\n",
       "c: 1/══════╩═\n",
       "           0 </pre>"
      ],
      "text/plain": [
       "     ┌───┐┌─┐\n",
       "q_0: ┤ H ├┤M├\n",
       "     └───┘└╥┘\n",
       "c: 1/══════╩═\n",
       "           0 "
      ]
     },
     "execution_count": 5,
     "metadata": {},
     "output_type": "execute_result"
    }
   ],
   "source": [
    "from qiskit import QuantumCircuit\n",
    "\n",
    "h_qc = QuantumCircuit(1, 1)\n",
    "h_qc.h(0)\n",
    "h_qc.measure(0, 0)\n",
    "h_qc.draw(idle_wires=False)"
   ]
  },
  {
   "cell_type": "markdown",
   "metadata": {},
   "source": [
    "Transpile our quantum circuit for the hardware basis gates."
   ]
  },
  {
   "cell_type": "code",
   "execution_count": 6,
   "metadata": {},
   "outputs": [
    {
     "data": {
      "text/html": [
       "<pre style=\"word-wrap: normal;white-space: pre;background: #fff0;line-height: 1.1;font-family: &quot;Courier New&quot;,Courier,monospace\">         ┌──────────┐┌─┐\n",
       "q_0 -> 0 ┤ U2(0,pi) ├┤M├\n",
       "         └──────────┘└╥┘\n",
       "    c: 1/═════════════╩═\n",
       "                      0 </pre>"
      ],
      "text/plain": [
       "         ┌──────────┐┌─┐\n",
       "q_0 -> 0 ┤ U2(0,pi) ├┤M├\n",
       "         └──────────┘└╥┘\n",
       "    c: 1/═════════════╩═\n",
       "                      0 "
      ]
     },
     "execution_count": 6,
     "metadata": {},
     "output_type": "execute_result"
    }
   ],
   "source": [
    "from qiskit import transpile\n",
    "\n",
    "h_qc_transpiled = transpile(h_qc, backend)\n",
    "h_qc_transpiled.draw(idle_wires=False)"
   ]
  },
  {
   "cell_type": "markdown",
   "metadata": {},
   "source": [
    "These are the instructions the hardware understands:"
   ]
  },
  {
   "cell_type": "code",
   "execution_count": 7,
   "metadata": {},
   "outputs": [
    {
     "data": {
      "text/plain": [
       "['id', 'u1', 'u2', 'u3', 'cx']"
      ]
     },
     "execution_count": 7,
     "metadata": {},
     "output_type": "execute_result"
    }
   ],
   "source": [
    "backend.configuration().basis_gates"
   ]
  },
  {
   "cell_type": "markdown",
   "metadata": {},
   "source": [
    "Schedule our circuit into its representation as a pulse `Schedule`. Don't worry, we'll learn about what is going on here in the following tutorial sessions."
   ]
  },
  {
   "cell_type": "code",
   "execution_count": 8,
   "metadata": {},
   "outputs": [
    {
     "data": {
      "image/png": "[encoded data removed]",
      "text/plain": [
       "<Figure size 1500x1800 with 1 Axes>"
      ]
     },
     "execution_count": 8,
     "metadata": {},
     "output_type": "execute_result"
    }
   ],
   "source": [
    "from qiskit import schedule\n",
    "from qiskit import pulse\n",
    "\n",
    "h_sched = schedule(h_qc_transpiled, backend)\n",
    "h_sched.draw(channels=[pulse.DriveChannel(0), pulse.MeasureChannel(0), pulse.AcquireChannel(0)], plot_range=[0, 1000])"
   ]
  },
  {
   "cell_type": "markdown",
   "metadata": {},
   "source": [
    "Execute this schedule on our backend:"
   ]
  },
  {
   "cell_type": "code",
   "execution_count": 9,
   "metadata": {},
   "outputs": [
    {
     "name": "stdout",
     "output_type": "stream",
     "text": [
      "5f85a894471ef10019c0eb8d\n",
      "Job Status: job has successfully run\n"
     ]
    }
   ],
   "source": [
    "from qiskit import execute\n",
    "from qiskit.tools.monitor import job_monitor\n",
    "\n",
    "job = execute(h_sched, backend, shots=1024, meas_level=2)\n",
    "# In pulse we have 3 measurement levels\n",
    "print(job.job_id())\n",
    "job_monitor(job)"
   ]
  },
  {
   "cell_type": "markdown",
   "metadata": {},
   "source": [
    "Get our result. For pulse jobs we need to measure all qubits, so we'll need to throw away the data we don't need:"
   ]
  },
  {
   "cell_type": "code",
   "execution_count": 10,
   "metadata": {},
   "outputs": [],
   "source": [
    "from qiskit.result.utils import marginal_counts\n",
    "\n",
    "result = marginal_counts(job.result(), indices=[0])"
   ]
  },
  {
   "cell_type": "markdown",
   "metadata": {},
   "source": [
    "Display our result:"
   ]
  },
  {
   "cell_type": "code",
   "execution_count": 11,
   "metadata": {},
   "outputs": [
    {
     "name": "stdout",
     "output_type": "stream",
     "text": [
      "{'0': 491, '1': 533}\n"
     ]
    },
    {
     "data": {
      "image/png": "[encoded data removed]",
      "text/plain": [
       "<Figure size 504x360 with 1 Axes>"
      ]
     },
     "execution_count": 11,
     "metadata": {},
     "output_type": "execute_result"
    }
   ],
   "source": [
    "from qiskit.visualization import plot_histogram\n",
    "\n",
    "h_counts = result.get_counts(0)\n",
    "print(h_counts)\n",
    "plot_histogram([h_counts])"
   ]
  },
  {
   "cell_type": "markdown",
   "metadata": {},
   "source": [
    "Up to shot noise we see the equi-probability distribution we expect for $|0>$ and $|1>$ state measurements."
   ]
  }
 ],
 "metadata": {
  "kernelspec": {
   "display_name": "Python 3 (ipykernel)",
   "language": "python",
   "name": "python3"
  },
  "language_info": {
   "codemirror_mode": {
    "name": "ipython",
    "version": 3
   },
   "file_extension": ".py",
   "mimetype": "text/x-python",
   "name": "python",
   "nbconvert_exporter": "python",
   "pygments_lexer": "ipython3",
   "version": "3.9.5"
  }
 },
 "nbformat": 4,
 "nbformat_minor": 4
}
