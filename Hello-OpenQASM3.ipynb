{
 "cells": [
  {
   "cell_type": "markdown",
   "metadata": {},
   "source": [
    "# Hello OpenQASM3\n",
    "#### @Quantom  & @Micheal Healy & @Hoss Ajallooiean - Qiskit Slack\n",
    "#### @taalexander & @mbhealy & @katetsu - Github\n",
    "\n",
    "Join us on the Qiskit Slack channel [#ieee-tutorial-openqasm3](https://qiskit.slack.com/archives/C02HQLDS3D3)\n",
    "\n",
    "\n",
    "We'll be using Qiskit throughout this tutorial. As OpenQASM3 is still in alpha support this tutorial requires some special branches to be installed to access supporting hardware. This notebook will guide your through getting setup.\n",
    "\n",
    "Don't hesitate to ask questions either in the Zoom call or the [Slack channel](https://qiskit.slack.com/archives/C02HQLDS3D3)."
   ]
  },
  {
   "cell_type": "markdown",
   "metadata": {},
   "source": [
    "### Preamble"
   ]
  },
  {
   "cell_type": "code",
   "execution_count": 1,
   "metadata": {},
   "outputs": [],
   "source": [
    "import sys\n",
    "import warnings\n",
    "\n",
    "if not sys.warnoptions:\n",
    "    warnings.simplefilter(\"ignore\")"
   ]
  },
  {
   "cell_type": "markdown",
   "metadata": {},
   "source": [
    "### Installation"
   ]
  },
  {
   "cell_type": "markdown",
   "metadata": {},
   "source": [
    "The tutorial consists of three notebooks: \n",
    "- This Hello World notebook\n",
    "- The [presentation notebook](./OpenQASM3-Presentation.ipynb)\n",
    "- The [exercise notebook](./OpenQASM3-Exercise-IPE.ipynb) \n",
    "\n",
    "There are also a number of ancillary Python files and images. The notebooks can be run locally or through the [Quantum Lab](https://lab.quantum-computing.ibm.com/) although some functionality will be missing on the lab as it is using older library versions.\n",
    "\n",
    "Please follow the installation guide below to get started."
   ]
  },
  {
   "cell_type": "markdown",
   "metadata": {},
   "source": [
    "### IBM Quantum Services Registration"
   ]
  },
  {
   "cell_type": "markdown",
   "metadata": {},
   "source": [
    "To get going you'll need to register an account with IBM quantum services if you don't already have one:\n",
    "- [Sign up for an IBM Quantum account](https://quantum-computing.ibm.com/)\n",
    "- After registration reach out to the Tutorial presenters in the Zoom chat or Qiskit Slack channel with your email so that the presenters may give you access to the hardware for this tutorial."
   ]
  },
  {
   "cell_type": "markdown",
   "metadata": {},
   "source": [
    "## Notebook Access"
   ]
  },
  {
   "cell_type": "markdown",
   "metadata": {},
   "source": [
    "### Local Machine"
   ]
  },
  {
   "cell_type": "markdown",
   "metadata": {},
   "source": [
    "Instructions:\n",
    "- Install Qiskit by following these [instructions](https://qiskit.org/documentation/install.html).\n",
    "    - Setup a Python virtual environment for the tutorial (good practice but not necessary).\n",
    "    - Make sure you have either Qiskit 0.31.0 installed. For full tutorial functionality install Qiskit's `main` branch:\n",
    "        - `pip install qiskit==0.31.0 jupyter matplotlib scipy`\n",
    "        - `git clone git@github.com:Qiskit/qiskit-terra.git`\n",
    "        - cd `qiskit-terra && git checkout origin/main`\n",
    "        - `pip install .`\n",
    "        - If while installing you receive an error that looks like\n",
    "          ```\n",
    "          ERROR: pip's dependency resolver does not currently take into account all the packages that are installed. This behaviour is the source of the following dependency conflicts.\n",
    "qiskit 0.31.0 requires qiskit-terra==0.18.3, but you have qiskit-terra 0.19.0 which is incompatible.\n",
    "          ```\n",
    "          Please ignore this error, it is not actually an error but desired.\n",
    "- Git clone or download the IEEE IBM Quantum tutorial repository. `git clone <insert>`. Make sure to download all necessary files.\n",
    "    - Notebooks and extra files for this tutorial can be found [here](./). Navigate to this folder\n",
    "- Launch Jupyter notebook `jupyter notebook` in [this](./) folder root.\n",
    "- Open up this notebook \"Hello OpenQASM3\" and run to check your installation and run your first OpenQASM3 program on real hardware."
   ]
  },
  {
   "cell_type": "markdown",
   "metadata": {},
   "source": [
    "### Quantum Lab\n",
    "*note*: As some features of this tutorial rely on code only available in Qiskit Terra's `main` branch not all portions of the demo will be supported in the Quantum lab. It is recommended that you follow the instructions for your local machine above.\n",
    "\n",
    "Instructions:\n",
    "- Open the [Quantum Lab](https://lab.quantum-computing.ibm.com/)\n",
    "- In the sidebard upload the tutorial notebooks and all *.py files."
   ]
  },
  {
   "cell_type": "markdown",
   "metadata": {},
   "source": [
    "Please verify that your `qiskit-terra` version below is `0.19.0`."
   ]
  },
  {
   "cell_type": "code",
   "execution_count": 2,
   "metadata": {},
   "outputs": [
    {
     "name": "stderr",
     "output_type": "stream",
     "text": [
      "/Users/thomas/opt/anaconda3/envs/openqasm3/lib/python3.9/site-packages/qiskit/aqua/__init__.py:86: DeprecationWarning: The package qiskit.aqua is deprecated. It was moved/refactored to qiskit-terra For more information see <https://github.com/Qiskit/qiskit-aqua/blob/main/README.md#migration-guide>\n",
      "  warn_package('aqua', 'qiskit-terra')\n"
     ]
    },
    {
     "data": {
      "text/html": [
       "<h3>Version Information</h3><table><tr><th>Qiskit Software</th><th>Version</th></tr><tr><td><code>qiskit-terra</code></td><td>0.19.0</td></tr><tr><td><code>qiskit-aer</code></td><td>0.8.2</td></tr><tr><td><code>qiskit-ignis</code></td><td>0.6.0</td></tr><tr><td><code>qiskit-ibmq-provider</code></td><td>0.17.0</td></tr><tr><td><code>qiskit-aqua</code></td><td>0.9.4</td></tr><tr><td><code>qiskit</code></td><td>0.28.0</td></tr><tr><th>System information</th></tr><tr><td>Python version</td><td>3.9.5</td></tr><tr><td>Python compiler</td><td>Clang 10.0.0 </td></tr><tr><td>Python build</td><td>default, May 18 2021 12:31:01</td></tr><tr><td>OS</td><td>Darwin</td></tr><tr><td>CPUs</td><td>8</td></tr><tr><td>Memory (Gb)</td><td>32.0</td></tr><tr><td colspan='2'>Sun Oct 17 14:19:14 2021 ADT</td></tr></table>"
      ],
      "text/plain": [
       "<IPython.core.display.HTML object>"
      ]
     },
     "metadata": {},
     "output_type": "display_data"
    }
   ],
   "source": [
    "import qiskit.tools.jupyter\n",
    "\n",
    "%qiskit_version_table"
   ]
  },
  {
   "cell_type": "markdown",
   "metadata": {},
   "source": [
    "- Launch this tutorial notebook from Jupyter in the tutorial root folder\n",
    "- Great, you should be installed! Goto the \"First Experiment\" section"
   ]
  },
  {
   "cell_type": "markdown",
   "metadata": {},
   "source": [
    "## Testing OpenQASM3 Support\n",
    "Let's test out our installation and setup by verifying we have access to the code and hardware necessary."
   ]
  },
  {
   "cell_type": "markdown",
   "metadata": {},
   "source": [
    "Load our backend. We will be using `ibm_perth`, with a hub/group/project that has access to OpenQASM3 for today."
   ]
  },
  {
   "cell_type": "code",
   "execution_count": 23,
   "metadata": {},
   "outputs": [],
   "source": [
    "hub = 'ibm-q-community'\n",
    "group = 'ieee-session'\n",
    "project = 'event-2021'\n",
    "backend_name = 'ibm_perth'"
   ]
  },
  {
   "cell_type": "code",
   "execution_count": 24,
   "metadata": {},
   "outputs": [
    {
     "name": "stderr",
     "output_type": "stream",
     "text": [
      "ibmqfactory.load_account:WARNING:2021-10-20 11:15:46,968: Credentials are already in use. The existing account in the session will be replaced.\n"
     ]
    }
   ],
   "source": [
    "import qiskit\n",
    "from qiskit import IBMQ\n",
    "from qiskit.providers.ibmq.exceptions import IBMQAccountCredentialsNotFound\n",
    "\n",
    "#IBMQ.save_account(\"<token>\")\n",
    "try:\n",
    "    IBMQ.load_account()\n",
    "except IBMQAccountCredentialsNotFound:\n",
    "    print(\"Could not find your credentials\"\n",
    "          \"Uncomment the lines above and insert your API token \"\n",
    "          \"which can be found here https://quantum-computing.ibm.com/account.\"\n",
    "          \"After saving your credentials add back the comment.\"\n",
    "         )\n",
    "    raise"
   ]
  },
  {
   "cell_type": "code",
   "execution_count": 25,
   "metadata": {},
   "outputs": [],
   "source": [
    "from qiskit.providers.ibmq.exceptions import IBMQProviderError\n",
    "\n",
    "# load provider\n",
    "try:\n",
    "    provider = IBMQ.get_provider(hub=hub, group=group, project=project)\n",
    "except IBMQProviderError:\n",
    "    print(\n",
    "        \"The provider was not found. \"\n",
    "        \"This means your IBM Quantum Services account was not yet added. \"\n",
    "        \"Contact one of the tutorial presenters to add you.\"\n",
    "    )\n",
    "    raise\n",
    "    \n",
    "# Get our backend\n",
    "backend = provider.get_backend(backend_name)"
   ]
  },
  {
   "cell_type": "markdown",
   "metadata": {},
   "source": [
    "Prepare our circuit:"
   ]
  },
  {
   "cell_type": "code",
   "execution_count": 26,
   "metadata": {},
   "outputs": [],
   "source": [
    "qubit = 0"
   ]
  },
  {
   "cell_type": "code",
   "execution_count": 27,
   "metadata": {},
   "outputs": [
    {
     "data": {
      "text/html": [
       "<pre style=\"word-wrap: normal;white-space: pre;background: #fff0;line-height: 1.1;font-family: &quot;Courier New&quot;,Courier,monospace\">     ┌───┐┌─┐\n",
       "  q: ┤ H ├┤M├\n",
       "     └───┘└╥┘\n",
       "c: 1/══════╩═\n",
       "           0 </pre>"
      ],
      "text/plain": [
       "     ┌───┐┌─┐\n",
       "  q: ┤ H ├┤M├\n",
       "     └───┘└╥┘\n",
       "c: 1/══════╩═\n",
       "           0 "
      ]
     },
     "execution_count": 27,
     "metadata": {},
     "output_type": "execute_result"
    }
   ],
   "source": [
    "from qiskit import QuantumCircuit\n",
    "\n",
    "h_qc = QuantumCircuit(1, 1, name=\"|+> Prep\")\n",
    "h_qc.h(0)\n",
    "h_qc.measure(0, 0)\n",
    "h_qc.draw(idle_wires=False)"
   ]
  },
  {
   "cell_type": "markdown",
   "metadata": {},
   "source": [
    "Transpile our quantum circuit for the hardware basis gates."
   ]
  },
  {
   "cell_type": "code",
   "execution_count": 28,
   "metadata": {},
   "outputs": [
    {
     "data": {
      "text/html": [
       "<pre style=\"word-wrap: normal;white-space: pre;background: #fff0;line-height: 1.1;font-family: &quot;Courier New&quot;,Courier,monospace\">global phase: π/4\n",
       "         ┌─────────┐┌────┐┌─────────┐┌─┐\n",
       "q_0 -> 1 ┤ Rz(π/2) ├┤ √X ├┤ Rz(π/2) ├┤M├\n",
       "         └─────────┘└────┘└─────────┘└╥┘\n",
       "    c: 1/═════════════════════════════╩═\n",
       "                                      0 </pre>"
      ],
      "text/plain": [
       "global phase: π/4\n",
       "         ┌─────────┐┌────┐┌─────────┐┌─┐\n",
       "q_0 -> 1 ┤ Rz(π/2) ├┤ √X ├┤ Rz(π/2) ├┤M├\n",
       "         └─────────┘└────┘└─────────┘└╥┘\n",
       "    c: 1/═════════════════════════════╩═\n",
       "                                      0 "
      ]
     },
     "execution_count": 28,
     "metadata": {},
     "output_type": "execute_result"
    }
   ],
   "source": [
    "from qiskit import transpile\n",
    "\n",
    "h_qc_transpiled = transpile(h_qc, backend, initial_layout=[1])\n",
    "h_qc_transpiled.draw(idle_wires=False)"
   ]
  },
  {
   "cell_type": "markdown",
   "metadata": {},
   "source": [
    "Submit our circuit to the backend to verify its working."
   ]
  },
  {
   "cell_type": "code",
   "execution_count": 29,
   "metadata": {},
   "outputs": [
    {
     "name": "stdout",
     "output_type": "stream",
     "text": [
      "Your job's id: 6170249e32bb439adaa548ed\n",
      "|+> preparation results: {'0': 527, '1': 497}\n"
     ]
    }
   ],
   "source": [
    "job = backend.run(h_qc_transpiled)\n",
    "print(f\"Your job's id: {job.job_id()}\")\n",
    "result = job.result()\n",
    "print(f\"|+> preparation results: {result.get_counts(0)}\")"
   ]
  },
  {
   "cell_type": "code",
   "execution_count": 30,
   "metadata": {},
   "outputs": [],
   "source": [
    "job.error_message()"
   ]
  },
  {
   "cell_type": "markdown",
   "metadata": {},
   "source": [
    "Run our circuit as a OpenQASM3 program\n",
    "\n",
    "If you receive a permissions error or the job does not complete. Please post the error to one of the tutorial presenters for help debugging."
   ]
  },
  {
   "cell_type": "code",
   "execution_count": 33,
   "metadata": {},
   "outputs": [
    {
     "name": "stdout",
     "output_type": "stream",
     "text": [
      "======|+> Prep======\n",
      "=======QASM3======\n",
      "OPENQASM 3;\n",
      "bit[1] c;\n",
      "rz(pi/2) $1;\n",
      "sx $1;\n",
      "rz(pi/2) $1;\n",
      "c[0] = measure $1;\n",
      "\n",
      "==================\n",
      "global phase: π/4\n",
      "                                              \n",
      "ancilla_0 -> 0 ───────────────────────────────\n",
      "               ┌─────────┐┌────┐┌─────────┐┌─┐\n",
      "      q_0 -> 1 ┤ Rz(π/2) ├┤ √X ├┤ Rz(π/2) ├┤M├\n",
      "               └─────────┘└────┘└─────────┘└╥┘\n",
      "ancilla_1 -> 2 ─────────────────────────────╫─\n",
      "                                            ║ \n",
      "ancilla_2 -> 3 ─────────────────────────────╫─\n",
      "                                            ║ \n",
      "ancilla_3 -> 4 ─────────────────────────────╫─\n",
      "                                            ║ \n",
      "ancilla_4 -> 5 ─────────────────────────────╫─\n",
      "                                            ║ \n",
      "ancilla_5 -> 6 ─────────────────────────────╫─\n",
      "                                            ║ \n",
      "          c: 1/═════════════════════════════╩═\n",
      "                                            0 \n",
      "==================\n",
      "Running: c5o2aqlrd6ls96t2rhr0\n",
      "=======|+> Prep=======\n",
      "{'0': 520, '1': 480}\n"
     ]
    }
   ],
   "source": [
    "from run_openqasm3 import run_openqasm3\n",
    "job = run_openqasm3(h_qc_transpiled, backend)"
   ]
  },
  {
   "cell_type": "code",
   "execution_count": null,
   "metadata": {},
   "outputs": [],
   "source": []
  }
 ],
 "metadata": {
  "kernelspec": {
   "display_name": "Python 3 (ipykernel)",
   "language": "python",
   "name": "python3"
  },
  "language_info": {
   "codemirror_mode": {
    "name": "ipython",
    "version": 3
   },
   "file_extension": ".py",
   "mimetype": "text/x-python",
   "name": "python",
   "nbconvert_exporter": "python",
   "pygments_lexer": "ipython3",
   "version": "3.9.5"
  }
 },
 "nbformat": 4,
 "nbformat_minor": 4
}
