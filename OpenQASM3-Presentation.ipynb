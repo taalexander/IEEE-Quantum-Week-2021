{
 "cells": [
  {
   "cell_type": "markdown",
   "id": "7316a9b4",
   "metadata": {
    "slideshow": {
     "slide_type": "slide"
    }
   },
   "source": [
    "# Real-time Control of Quantum Computers with OpenQASM3, Qiskit, and IBM Quantum Services\n",
    "#### @Quantom  & @Micheal Healy & @Hoss Ajallooiean - Qiskit Slack\n",
    "#### @taalexander & @mbhealy & @katetsu - Github\n",
    "\n",
    "Join us on the Qiskit Slack channel [#ieee-tutorial-openqasm3](https://qiskit.slack.com/archives/C02HQLDS3D3)"
   ]
  },
  {
   "cell_type": "markdown",
   "id": "95dba6ae",
   "metadata": {
    "slideshow": {
     "slide_type": "skip"
    }
   },
   "source": [
    "## Preamble"
   ]
  },
  {
   "cell_type": "code",
   "execution_count": null,
   "id": "88c1fa9b",
   "metadata": {
    "slideshow": {
     "slide_type": "skip"
    }
   },
   "outputs": [],
   "source": [
    "import os\n",
    "from typing import Any, List, Dict, Union\n",
    "\n",
    "import numpy as np\n",
    "import matplotlib.pyplot as plt\n",
    "\n",
    "from qiskit import IBMQ, QuantumCircuit, QuantumRegister, ClassicalRegister, quantum_info as qi\n",
    "from qiskit.providers.ibmq import RunnerResult\n",
    "from qiskit.result import marginal_counts\n",
    "import qiskit.tools.jupyter\n",
    "\n",
    "%matplotlib inline\n",
    "\n",
    "import warnings\n",
    "warnings.filterwarnings(\"ignore\")\n"
   ]
  },
  {
   "cell_type": "markdown",
   "id": "ac8f27a2",
   "metadata": {
    "slideshow": {
     "slide_type": "slide"
    }
   },
   "source": [
    "## Running OpenQASM3 through Qiskit"
   ]
  },
  {
   "cell_type": "markdown",
   "id": "1fcacfad",
   "metadata": {
    "slideshow": {
     "slide_type": "-"
    }
   },
   "source": [
    "*note*: Before running this notebook make sure to the follow the steps in the [Hello OpenQASM3](./Hello-OpenQASM3.ipynb).\n",
    "\n",
    "In the [Hello OpenQASM3](./Hello-OpenQASM3.ipynb) you would have run an OpenQASM3 program at the end.\n",
    "\n",
    "This is done in several steps."
   ]
  },
  {
   "cell_type": "markdown",
   "id": "15ca1184",
   "metadata": {
    "slideshow": {
     "slide_type": "subslide"
    }
   },
   "source": [
    "### First we load our backend"
   ]
  },
  {
   "cell_type": "code",
   "execution_count": 77,
   "id": "1e7303af",
   "metadata": {
    "slideshow": {
     "slide_type": "-"
    }
   },
   "outputs": [],
   "source": [
    "hub = 'ibm-q-community'\n",
    "group = 'ieee-session'\n",
    "project = 'event-2021'\n",
    "backend_name = 'ibm_perth'"
   ]
  },
  {
   "cell_type": "code",
   "execution_count": 78,
   "id": "faa8f57a",
   "metadata": {
    "slideshow": {
     "slide_type": "-"
    }
   },
   "outputs": [
    {
     "name": "stderr",
     "output_type": "stream",
     "text": [
      "ibmqfactory.load_account:WARNING:2021-10-20 11:47:17,041: Credentials are already in use. The existing account in the session will be replaced.\n"
     ]
    }
   ],
   "source": [
    "from qiskit import IBMQ\n",
    "IBMQ.load_account()\n",
    "provider = IBMQ.get_provider(hub=hub, group=group, project=project)\n",
    "backend = provider.get_backend(backend_name)"
   ]
  },
  {
   "cell_type": "code",
   "execution_count": 79,
   "id": "427680de",
   "metadata": {
    "scrolled": true,
    "slideshow": {
     "slide_type": "subslide"
    }
   },
   "outputs": [
    {
     "data": {
      "application/vnd.jupyter.widget-view+json": {
       "model_id": "7c829b6f4f1d457383dca8f8fcd6fac0",
       "version_major": 2,
       "version_minor": 0
      },
      "text/plain": [
       "VBox(children=(HTML(value=\"<h1 style='color:#ffffff;background-color:#000000;padding-top: 1%;padding-bottom: 1…"
      ]
     },
     "metadata": {},
     "output_type": "display_data"
    },
    {
     "data": {
      "text/plain": [
       "<IBMQBackend('ibm_perth') from IBMQ(hub='ibm-q-community', group='ieee-session', project='event-2021')>"
      ]
     },
     "execution_count": 79,
     "metadata": {},
     "output_type": "execute_result"
    }
   ],
   "source": [
    "import qiskit.tools.jupyter\n",
    "backend"
   ]
  },
  {
   "cell_type": "markdown",
   "id": "5ee972a2",
   "metadata": {
    "slideshow": {
     "slide_type": "subslide"
    }
   },
   "source": [
    "## Next we write a Qiskit Circuit as normal\n",
    "\n",
    "By integrating QASM3 with the QuantumCircuit interface we gain access to the extensive suite of Qiskit algorithms and applications.\n"
   ]
  },
  {
   "cell_type": "code",
   "execution_count": 85,
   "id": "560a55c6",
   "metadata": {},
   "outputs": [
    {
     "data": {
      "image/png": "[encoded data removed]",
      "text/plain": [
       "<Figure size 193.726x144.48 with 1 Axes>"
      ]
     },
     "execution_count": 85,
     "metadata": {},
     "output_type": "execute_result"
    }
   ],
   "source": [
    "from qiskit import QuantumCircuit\n",
    "\n",
    "# Fill in Readout test and draw"
   ]
  },
  {
   "cell_type": "code",
   "execution_count": null,
   "id": "0befa564",
   "metadata": {
    "slideshow": {
     "slide_type": "skip"
    }
   },
   "outputs": [],
   "source": [
    "from qiskit import QuantumCircuit\n",
    "\n",
    "qc_prep_excited = QuantumCircuit(1, 1)\n",
    "qc_prep_excited.x(0)\n",
    "qc_prep_excited.measure(0, 0)\n",
    "qc_prep_excited.draw(output=\"mpl\", idle_wires=False)"
   ]
  },
  {
   "cell_type": "markdown",
   "id": "fc559929",
   "metadata": {
    "slideshow": {
     "slide_type": "subslide"
    }
   },
   "source": [
    "# We then transpile the circuit to target it to our backend"
   ]
  },
  {
   "cell_type": "code",
   "execution_count": 86,
   "id": "842ce83e",
   "metadata": {
    "slideshow": {
     "slide_type": "-"
    }
   },
   "outputs": [],
   "source": [
    "qubit = 3\n",
    "shots = 1000"
   ]
  },
  {
   "cell_type": "code",
   "execution_count": 87,
   "id": "38063487",
   "metadata": {
    "slideshow": {
     "slide_type": "-"
    }
   },
   "outputs": [
    {
     "data": {
      "text/html": [
       "<pre style=\"word-wrap: normal;white-space: pre;background: #fff0;line-height: 1.1;font-family: &quot;Courier New&quot;,Courier,monospace\">                       \n",
       "ancilla_0 -> 0 ────────\n",
       "                       \n",
       "ancilla_1 -> 1 ────────\n",
       "                       \n",
       "ancilla_2 -> 2 ────────\n",
       "               ┌───┐┌─┐\n",
       "      q_0 -> 3 ┤ X ├┤M├\n",
       "               └───┘└╥┘\n",
       "ancilla_3 -> 4 ──────╫─\n",
       "                     ║ \n",
       "ancilla_4 -> 5 ──────╫─\n",
       "                     ║ \n",
       "ancilla_5 -> 6 ──────╫─\n",
       "                     ║ \n",
       "          c: 1/══════╩═\n",
       "                     0 </pre>"
      ],
      "text/plain": [
       "                       \n",
       "ancilla_0 -> 0 ────────\n",
       "                       \n",
       "ancilla_1 -> 1 ────────\n",
       "                       \n",
       "ancilla_2 -> 2 ────────\n",
       "               ┌───┐┌─┐\n",
       "      q_0 -> 3 ┤ X ├┤M├\n",
       "               └───┘└╥┘\n",
       "ancilla_3 -> 4 ──────╫─\n",
       "                     ║ \n",
       "ancilla_4 -> 5 ──────╫─\n",
       "                     ║ \n",
       "ancilla_5 -> 6 ──────╫─\n",
       "                     ║ \n",
       "          c: 1/══════╩═\n",
       "                     0 "
      ]
     },
     "execution_count": 87,
     "metadata": {},
     "output_type": "execute_result"
    }
   ],
   "source": [
    "from qiskit import transpile\n",
    "\n",
    "# Transpile for qubit and draw"
   ]
  },
  {
   "cell_type": "code",
   "execution_count": null,
   "id": "dae3e004",
   "metadata": {
    "slideshow": {
     "slide_type": "skip"
    }
   },
   "outputs": [],
   "source": [
    "from qiskit import transpile\n",
    "\n",
    "qc_prep_excited_transpiled = transpile(qc_prep_excited, backend, initial_layout=[qubit])\n",
    "\n",
    "qc_prep_excited_transpiled.draw(output=\"mpl\", idle_wires=False)"
   ]
  },
  {
   "cell_type": "markdown",
   "id": "9e133f9a",
   "metadata": {
    "slideshow": {
     "slide_type": "subslide"
    }
   },
   "source": [
    "# We then imported a routine and ran it"
   ]
  },
  {
   "cell_type": "code",
   "execution_count": 88,
   "id": "4717ecf1",
   "metadata": {
    "slideshow": {
     "slide_type": "-"
    }
   },
   "outputs": [
    {
     "name": "stdout",
     "output_type": "stream",
     "text": [
      "======circuit-275======\n",
      "=======QASM3======\n",
      "OPENQASM 3;\n",
      "bit[1] c;\n",
      "x $3;\n",
      "c[0] = measure $3;\n",
      "\n",
      "==================\n",
      "                       \n",
      "ancilla_0 -> 0 ────────\n",
      "                       \n",
      "ancilla_1 -> 1 ────────\n",
      "                       \n",
      "ancilla_2 -> 2 ────────\n",
      "               ┌───┐┌─┐\n",
      "      q_0 -> 3 ┤ X ├┤M├\n",
      "               └───┘└╥┘\n",
      "ancilla_3 -> 4 ──────╫─\n",
      "                     ║ \n",
      "ancilla_4 -> 5 ──────╫─\n",
      "                     ║ \n",
      "ancilla_5 -> 6 ──────╫─\n",
      "                     ║ \n",
      "          c: 1/══════╩═\n",
      "                     0 \n",
      "==================\n",
      "Running: c5o2pltrd6ls96t2rn4g\n",
      "=======circuit-275=======\n",
      "{'0': 20, '1': 980}\n"
     ]
    },
    {
     "data": {
      "text/plain": [
       "<qiskit.providers.ibmq.runtime.runtime_job.RuntimeJob at 0x7ff901229910>"
      ]
     },
     "execution_count": 88,
     "metadata": {},
     "output_type": "execute_result"
    }
   ],
   "source": [
    "from run_openqasm3 import run_openqasm3\n",
    "\n",
    "# Run the circuit / QASM3"
   ]
  },
  {
   "cell_type": "code",
   "execution_count": null,
   "id": "e6d84649",
   "metadata": {
    "slideshow": {
     "slide_type": "skip"
    }
   },
   "outputs": [],
   "source": [
    "from run_openqasm3 import run_openqasm3\n",
    "\n",
    "job = run_openqasm3(qc_prep_excited_transpiled, backend, verbose=True)"
   ]
  },
  {
   "cell_type": "markdown",
   "id": "a42622d5",
   "metadata": {
    "slideshow": {
     "slide_type": "subslide"
    }
   },
   "source": [
    "# What is actually going on underneath the hood?\n",
    "\n",
    "We're submitting circuit jobs to a QASM3 program in the [Qiskit Runtime](https://quantum-computing.ibm.com/lab/docs/iql/runtime/).\n",
    "\n",
    "![Qiskit Runtime](https://iqx-docs.quantum-computing.ibm.com/_images/qiskit-runtime1.gif)"
   ]
  },
  {
   "cell_type": "markdown",
   "id": "ee85ad2e",
   "metadata": {
    "slideshow": {
     "slide_type": "subslide"
    }
   },
   "source": [
    "### Submitting directly to the runtime\n",
    "\n",
    "First we build our program arguments and options"
   ]
  },
  {
   "cell_type": "code",
   "execution_count": 89,
   "id": "6310e141",
   "metadata": {
    "slideshow": {
     "slide_type": "-"
    }
   },
   "outputs": [],
   "source": [
    "runtime_params = {\n",
    "    'circuits': [qc_readout],\n",
    "}\n",
    "\n",
    "options = {'backend_name': backend.name()}"
   ]
  },
  {
   "cell_type": "markdown",
   "id": "b96b68a9",
   "metadata": {
    "slideshow": {
     "slide_type": "subslide"
    }
   },
   "source": [
    "### Then we submit to the `circuit-runner-qasm3` Runtime.\n"
   ]
  },
  {
   "cell_type": "code",
   "execution_count": 90,
   "id": "73d75c43",
   "metadata": {
    "slideshow": {
     "slide_type": "-"
    }
   },
   "outputs": [],
   "source": [
    "from qiskit.providers.ibmq import RunnerResult\n",
    "\n",
    "prep_excited_job = provider.runtime.run(\n",
    "    program_id=\"circuit-runner-qasm3\",\n",
    "    options=options,\n",
    "    inputs=runtime_params,\n",
    "    image=\"qiskit-program-qasm3:latest\",\n",
    "    result_decoder=RunnerResult,\n",
    ")"
   ]
  },
  {
   "cell_type": "markdown",
   "id": "f828820d",
   "metadata": {
    "slideshow": {
     "slide_type": "subslide"
    }
   },
   "source": [
    "The runtime returns us a job handle.\n",
    "\n",
    "Note that the `RunnerResult` decoder we've passed to the runtime handles decoding of our results to the standard Qiskit result format. In general runtimes can return any JSON output provided an appropriate decoder is available.\n",
    "\n",
    "Fetching the result is just like a normal Qiskit Qobj job."
   ]
  },
  {
   "cell_type": "code",
   "execution_count": 91,
   "id": "e6cb42ac",
   "metadata": {
    "slideshow": {
     "slide_type": "-"
    }
   },
   "outputs": [
    {
     "name": "stdout",
     "output_type": "stream",
     "text": [
      "{'0': 23, '1': 977}\n"
     ]
    }
   ],
   "source": [
    "prep_excited_result = prep_excited_job.result()\n",
    "print(prep_excited_result.get_counts())"
   ]
  },
  {
   "cell_type": "markdown",
   "id": "00b15159",
   "metadata": {
    "slideshow": {
     "slide_type": "subslide"
    }
   },
   "source": [
    "### We can also submit a QASM3 string directly to the runtime\n",
    "\n",
    "This is useful for the cases where the `QuantumCircuit` does not yet support all of the semantics of OpenQASM3.\n",
    "\n",
    "We can get the QASM3 for our circuit from Qiskit.\n",
    "\n",
    "*Note*: This is not currently released and is part of the Qiskit Terra `main` branch."
   ]
  },
  {
   "cell_type": "code",
   "execution_count": 92,
   "id": "2f8a865a",
   "metadata": {
    "slideshow": {
     "slide_type": "-"
    }
   },
   "outputs": [],
   "source": [
    "try:\n",
    "    from qiskit import qasm3\n",
    "except ImportError:\n",
    "    print(\"You likely do not have the main branch of Qiskit installed. Please install it to run this code\")\n",
    "    raise\n",
    "    \n"
   ]
  },
  {
   "cell_type": "code",
   "execution_count": 94,
   "id": "bb33e4aa",
   "metadata": {
    "slideshow": {
     "slide_type": "subslide"
    }
   },
   "outputs": [
    {
     "name": "stdout",
     "output_type": "stream",
     "text": [
      "OPENQASM 3;\n",
      "bit[1] c;\n",
      "x $3;\n",
      "c[0] = measure $3;\n",
      "\n"
     ]
    }
   ],
   "source": [
    "basis_gates = backend.configuration().basis_gates\n",
    "\n",
    "def dump_qasm3(circuit, backend=backend):\n",
    "    return qasm3.Exporter(includes=[], basis_gates=basis_gates).dumps(circuit)\n",
    "\n",
    "excited_prep_source_string = dump_qasm3(qc_readout)\n",
    "print(excited_prep_source_string)"
   ]
  },
  {
   "cell_type": "markdown",
   "id": "85540227",
   "metadata": {
    "slideshow": {
     "slide_type": "subslide"
    }
   },
   "source": [
    "## We may then submit to the runtime"
   ]
  },
  {
   "cell_type": "code",
   "execution_count": 95,
   "id": "97f3daca",
   "metadata": {},
   "outputs": [],
   "source": [
    "runtime_params = {\n",
    "    'circuits': [excited_prep_source_string],\n",
    "}\n",
    "\n",
    "options = {'backend_name': backend.name()}\n",
    "\n",
    "\n",
    "prep_excited_job_source_str = provider.runtime.run(\n",
    "    program_id=\"circuit-runner-qasm3\",\n",
    "    options=options,\n",
    "    inputs=runtime_params,\n",
    "    image=\"qiskit-program-qasm3:latest\",\n",
    "    result_decoder=RunnerResult,\n",
    ")"
   ]
  },
  {
   "cell_type": "code",
   "execution_count": 96,
   "id": "a8d091ce",
   "metadata": {},
   "outputs": [
    {
     "name": "stdout",
     "output_type": "stream",
     "text": [
      "{'0': 27, '1': 973}\n"
     ]
    }
   ],
   "source": [
    "print(prep_excited_job_source_str.result().get_counts())"
   ]
  },
  {
   "cell_type": "markdown",
   "id": "f5fe5179",
   "metadata": {
    "slideshow": {
     "slide_type": "subslide"
    }
   },
   "source": [
    "### Why use the runtime?\n",
    "\n",
    "The runtime execution is colocated with the QPU through a low-latency path. In the future this will allow rapid execution of parameterized programs without recompilation or hardware reloading.\n",
    "\n",
    "```qasm\n",
    "\n",
    "OPENQASM 3;\n",
    "\n",
    "input angle theta;\n",
    "\n",
    "bit[1] c;\n",
    "rz(theta) $0;\n",
    "x $0;\n",
    "c[0] = measure $0;\n",
    "```\n",
    "\n",
    "This is an important step towards and accelerator model in Qiskit and IBM hardware for practical quantum computations."
   ]
  },
  {
   "cell_type": "markdown",
   "id": "e6396821",
   "metadata": {
    "slideshow": {
     "slide_type": "subslide"
    }
   },
   "source": [
    "## A Hierarchy of latencies\n",
    "\n",
    "<img src=\"./figs/qasm3_hierarchies.png\" alt=\"drawing\" style=\"width:1000px;\"/>\n",
    "\n",
    "\n",
    "This is an important step towards and accelerator model in Qiskit and IBM hardware for practical quantum computations.\n",
    "\n",
    "For this demo latencies are high, but this is because we have not enabled compilation-unit batching of circuits."
   ]
  },
  {
   "cell_type": "markdown",
   "id": "903ec68a",
   "metadata": {
    "slideshow": {
     "slide_type": "subslide"
    }
   },
   "source": [
    "## Let's run some \"Real Time\" Compute\n",
    "\n",
    "In 2020 IBM introduced some of the first features of real-time compute, multiple measurements and conditional resets."
   ]
  },
  {
   "cell_type": "code",
   "execution_count": 100,
   "id": "d50c0aac",
   "metadata": {
    "slideshow": {
     "slide_type": "-"
    }
   },
   "outputs": [
    {
     "data": {
      "image/png": "[encoded data removed]",
      "text/plain": [
       "<Figure size 314.126x144.48 with 1 Axes>"
      ]
     },
     "execution_count": 100,
     "metadata": {},
     "output_type": "execute_result"
    }
   ],
   "source": [
    "qc_real_time = QuantumCircuit(1, 2)\n",
    "\n",
    "# Program a builtin reset test circuit named job real time and draw\n"
   ]
  },
  {
   "cell_type": "code",
   "execution_count": 117,
   "id": "f24a1346",
   "metadata": {
    "slideshow": {
     "slide_type": "skip"
    }
   },
   "outputs": [
    {
     "data": {
      "image/png": "[encoded data removed]",
      "text/plain": [
       "<Figure size 314.126x144.48 with 1 Axes>"
      ]
     },
     "execution_count": 117,
     "metadata": {},
     "output_type": "execute_result"
    }
   ],
   "source": [
    "qc_real_time = QuantumCircuit(1, 2)\n",
    "qc_real_time.x(0)\n",
    "qc_real_time.measure(0, 0)\n",
    "qc_real_time.reset(0)\n",
    "qc_real_time.measure(0, 1)\n",
    "\n",
    "qc_real_time.draw(output=\"mpl\", idle_wires=False)"
   ]
  },
  {
   "cell_type": "code",
   "execution_count": 118,
   "id": "da1140fb",
   "metadata": {
    "slideshow": {
     "slide_type": "-"
    }
   },
   "outputs": [
    {
     "name": "stdout",
     "output_type": "stream",
     "text": [
      "6170354a9c88ce4edab0e9b1\n"
     ]
    }
   ],
   "source": [
    "# Run the reset job and check the results\n",
    "real_time_job = backend.run(transpile(qc_real_time, backend, initial_layout=[qubit]))\n",
    "print(real_time_job.job_id())"
   ]
  },
  {
   "cell_type": "code",
   "execution_count": 102,
   "id": "dae882be",
   "metadata": {},
   "outputs": [
    {
     "name": "stdout",
     "output_type": "stream",
     "text": [
      " Our reset counts were: {'00': 14, '01': 991, '11': 19}\n"
     ]
    }
   ],
   "source": [
    "print(f\" Our reset counts were: {real_time_job.result().get_counts(0)}\")"
   ]
  },
  {
   "cell_type": "code",
   "execution_count": null,
   "id": "eb1cb81e",
   "metadata": {
    "slideshow": {
     "slide_type": "skip"
    }
   },
   "outputs": [],
   "source": [
    "job_real_time = backend.run(qc_real_time)\n",
    "print(f\"Job id: {job_real_time.job_id()}\")\n",
    "result_real_time = job_real_time.result() \n",
    "print(f\"Reset results: {result_real_time.get_counts(0)}\")\n"
   ]
  },
  {
   "cell_type": "markdown",
   "id": "b5088eb8",
   "metadata": {
    "slideshow": {
     "slide_type": "subslide"
    }
   },
   "source": [
    "# Writing Conditional Reset Directly\n",
    "However, we wanted to put more expressive semantics in our user's hands to explore quantum error correction and other applications requiring real-time compute."
   ]
  },
  {
   "cell_type": "code",
   "execution_count": 107,
   "id": "7b6bfc36",
   "metadata": {
    "slideshow": {
     "slide_type": "slide"
    }
   },
   "outputs": [
    {
     "data": {
      "image/png": "[encoded data removed]",
      "text/plain": [
       "<Figure size 451.714x565.88 with 1 Axes>"
      ]
     },
     "execution_count": 107,
     "metadata": {},
     "output_type": "execute_result"
    }
   ],
   "source": [
    "from qiskit import QuantumRegister, ClassicalRegister\n",
    "\n",
    "qr = QuantumRegister(1)\n",
    "crx = ClassicalRegister(1, name=\"xresult\")\n",
    "crm = ClassicalRegister(1, name=\"measureresult\")\n",
    "qc_reset = QuantumCircuit(qr, crx, crm, name=\"Reset\")\n",
    "\n",
    "# Program a reset directly using control flow and draw\n"
   ]
  },
  {
   "cell_type": "code",
   "execution_count": null,
   "id": "378eeb0c",
   "metadata": {
    "slideshow": {
     "slide_type": "skip"
    }
   },
   "outputs": [],
   "source": [
    "from qiskit import QuantumRegister, ClassicalRegister\n",
    "\n",
    "qr = QuantumRegister(1)\n",
    "crx = ClassicalRegister(1, name=\"xresult\")\n",
    "crm = ClassicalRegister(1, name=\"measureresult\")\n",
    "qc_reset = QuantumCircuit(qr, crx, crm, name=\"Reset\")\n",
    "qc_reset.x(0)\n",
    "qc_reset.measure(0, crx)\n",
    "qc_reset.x(0).c_if(crx, 1)\n",
    "qc_reset.measure(0, crm)\n",
    " \n",
    "qc_reset = transpile(qc_reset, backend, initial_layout=[1])\n",
    "qc_reset.draw(output=\"mpl\", idle_wires=False)"
   ]
  },
  {
   "cell_type": "markdown",
   "id": "ddc3c90e",
   "metadata": {
    "slideshow": {
     "slide_type": "subslide"
    }
   },
   "source": [
    "### Alternatively we can write as a QASM3 program"
   ]
  },
  {
   "cell_type": "code",
   "execution_count": 108,
   "id": "61ba3318",
   "metadata": {
    "slideshow": {
     "slide_type": "-"
    }
   },
   "outputs": [
    {
     "name": "stdout",
     "output_type": "stream",
     "text": [
      "OPENQASM 3;\n",
      "bit[1] xresult;\n",
      "bit[1] measureresult;\n",
      "x $3;\n",
      "xresult[0] = measure $3;\n",
      "if (xresult == 1) {\n",
      "x $3;\n",
      "}\n",
      "measureresult[0] = measure $3;\n",
      "\n"
     ]
    }
   ],
   "source": [
    "print(dump_qasm3(qc_reset))"
   ]
  },
  {
   "cell_type": "markdown",
   "id": "e2c52005",
   "metadata": {
    "slideshow": {
     "slide_type": "subslide"
    }
   },
   "source": [
    "### Run the program"
   ]
  },
  {
   "cell_type": "code",
   "execution_count": 119,
   "id": "8918170c",
   "metadata": {
    "slideshow": {
     "slide_type": "-"
    }
   },
   "outputs": [
    {
     "name": "stdout",
     "output_type": "stream",
     "text": [
      "======Reset======\n",
      "=======QASM3======\n",
      "OPENQASM 3;\n",
      "bit[1] xresult;\n",
      "bit[1] measureresult;\n",
      "x $3;\n",
      "xresult[0] = measure $3;\n",
      "if (xresult == 1) {\n",
      "x $3;\n",
      "}\n",
      "measureresult[0] = measure $3;\n",
      "\n",
      "==================\n",
      "                                   \n",
      "  ancilla_0 -> 0 ──────────────────\n",
      "                                   \n",
      "  ancilla_1 -> 1 ──────────────────\n",
      "                                   \n",
      "  ancilla_2 -> 2 ──────────────────\n",
      "                 ┌───┐┌─┐ ┌───┐ ┌─┐\n",
      "     q263_0 -> 3 ┤ X ├┤M├─┤ X ├─┤M├\n",
      "                 └───┘└╥┘ └─╥─┘ └╥┘\n",
      "  ancilla_3 -> 4 ──────╫────╫────╫─\n",
      "                       ║    ║    ║ \n",
      "  ancilla_4 -> 5 ──────╫────╫────╫─\n",
      "                       ║    ║    ║ \n",
      "  ancilla_5 -> 6 ──────╫────╫────╫─\n",
      "                       ║ ┌──╨──┐ ║ \n",
      "      xresult: 1/══════╩═╡ 0x1 ╞═╬═\n",
      "                       0 └─────┘ ║ \n",
      "measureresult: 1/════════════════╩═\n",
      "                                 0 \n",
      "==================\n",
      "Running: c5o3aotrd6ls96t2rq30\n",
      "=======Reset=======\n",
      "{'0 0': 17, '0 1': 926, '1 1': 57}\n"
     ]
    }
   ],
   "source": [
    "reset_job = run_openqasm3(qc_reset, backend, verbose=True)"
   ]
  },
  {
   "cell_type": "markdown",
   "id": "9fe064b1",
   "metadata": {
    "slideshow": {
     "slide_type": "subslide"
    }
   },
   "source": [
    "## Stack Diagram\n",
    "<img src=\"./figs/demo_path.png\" alt=\"drawing\" style=\"width:550px;\"/>"
   ]
  },
  {
   "cell_type": "markdown",
   "id": "ab1c5056",
   "metadata": {
    "slideshow": {
     "slide_type": "subslide"
    }
   },
   "source": [
    "### How did we do?"
   ]
  },
  {
   "cell_type": "code",
   "execution_count": 124,
   "id": "161c3db3",
   "metadata": {
    "slideshow": {
     "slide_type": "-"
    }
   },
   "outputs": [
    {
     "name": "stdout",
     "output_type": "stream",
     "text": [
      "Full counts including reset: {'0 0': 17, '0 1': 926, '1 1': 57}\n",
      "Results from our reset - |0>s prepared 943, |1>s prepared 57\n"
     ]
    }
   ],
   "source": [
    "\n",
    "from qiskit.result import marginal_counts\n",
    "\n",
    "reset_result = reset_job.result()\n",
    "reset_counts = reset_result.get_counts(0)\n",
    "mitigated_reset_results = marginal_counts(reset_counts, indices=[1])\n",
    "print(f\"Full counts including reset: {reset_counts}\")\n",
    "print(f\"Results from our reset - |0>s prepared {mitigated_reset_results.get('0')}, |1>s prepared {mitigated_reset_results['1']}\"\n",
    ")\n",
    "      \n"
   ]
  },
  {
   "cell_type": "markdown",
   "id": "0d889ebe",
   "metadata": {
    "slideshow": {
     "slide_type": "subslide"
    }
   },
   "source": [
    "### Let's try several rounds of reset"
   ]
  },
  {
   "cell_type": "code",
   "execution_count": 126,
   "id": "ea4cc291",
   "metadata": {
    "slideshow": {
     "slide_type": "-"
    }
   },
   "outputs": [],
   "source": [
    "# Program several rounds of reset using QASM3\n",
    "\n",
    "#print(dump_qasm3(qc_reset))\n",
    "\n",
    "qubit_init_qasm3 = \"\"\"\n",
    "\n",
    "\"\"\""
   ]
  },
  {
   "cell_type": "code",
   "execution_count": 120,
   "id": "c1d7c20f",
   "metadata": {
    "slideshow": {
     "slide_type": "skip"
    }
   },
   "outputs": [],
   "source": [
    "qubit_init_qasm3 = \"\"\"\n",
    "    \n",
    "OPENQASM 3;\n",
    "\n",
    "bit reset_result0;\n",
    "bit reset_result1;\n",
    "bit reset_result2;\n",
    "bit[1] measureresult;\n",
    "\n",
    "x $1;\n",
    "reset_result0 = measure $1;\n",
    "\n",
    "// three rounds of reset.\n",
    "if (reset_result0 == 1) {\n",
    "    x $1;\n",
    "}\n",
    "\n",
    "reset_result1 = measure $1;\n",
    "\n",
    "if (reset_result1 == 1) {\n",
    "    x $1;\n",
    "}\n",
    "\n",
    "reset_result2 = measure $1;\n",
    "\n",
    "if (reset_result2 == 1) {\n",
    "    x $1;\n",
    "}\n",
    "\n",
    "// Final measurement\n",
    "measureresult[0] = measure $1;\n",
    "\n",
    "\"\"\""
   ]
  },
  {
   "cell_type": "code",
   "execution_count": 127,
   "id": "6538b276",
   "metadata": {},
   "outputs": [
    {
     "name": "stdout",
     "output_type": "stream",
     "text": [
      "c5o3d7drd6ls96t2rqmg\n",
      "Results from our better reset - |0>s prepared 996, |1>s prepared 4 \n"
     ]
    }
   ],
   "source": [
    "init_job = run_openqasm3(qubit_init_qasm3, backend, verbose=False)\n",
    "print(init_job.job_id())\n",
    "better_reset_result_1s = sum(count for key, count in init_job.result().get_counts(0).items() if (len(key)==4))\n",
    "print(f\"Results from our better reset - |0>s prepared {shots-better_reset_result_1s}, |1>s prepared {better_reset_result_1s} \")\n"
   ]
  },
  {
   "cell_type": "markdown",
   "id": "50221d97",
   "metadata": {
    "slideshow": {
     "slide_type": "slide"
    }
   },
   "source": [
    "## Teleporting a Quantum State\n",
    "<img src=\"./figs/telamon.jpeg\" alt=\"drawing\" style=\"width:700px;\"/>"
   ]
  },
  {
   "cell_type": "markdown",
   "id": "27137b10",
   "metadata": {
    "slideshow": {
     "slide_type": "subslide"
    }
   },
   "source": [
    "### Prepare the teleportation circuit"
   ]
  },
  {
   "cell_type": "code",
   "execution_count": 128,
   "id": "e8fefcdd",
   "metadata": {
    "slideshow": {
     "slide_type": "-"
    }
   },
   "outputs": [
    {
     "data": {
      "image/png": "[encoded data removed]",
      "text/plain": [
       "<Figure size 547.812x385.28 with 1 Axes>"
      ]
     },
     "execution_count": 128,
     "metadata": {},
     "output_type": "execute_result"
    }
   ],
   "source": [
    "qr = QuantumRegister(3)\n",
    "crz = ClassicalRegister(1, name=\"crz\")\n",
    "crx = ClassicalRegister(1, name=\"crx\")\n",
    "result = ClassicalRegister(1, name=\"result\")\n",
    "\n",
    "qc_teleport = QuantumCircuit(qr, crz, crx, result, name=\"Teleport\")\n",
    "\n",
    "# Apply teleportation circuit\n",
    "qc_teleport.h(qr[1])\n",
    "qc_teleport.cx(qr[1], qr[2])\n",
    "#qc_teleport.barrier(qr)\n",
    "qc_teleport.cx(qr[0], qr[1])\n",
    "qc_teleport.h(qr[0])\n",
    "qc_teleport.measure(qr[0], crz)\n",
    "qc_teleport.measure(qr[1], crx)\n",
    "qc_teleport.z(qr[2]).c_if(crz, 1)\n",
    "qc_teleport.x(qr[2]).c_if(crx, 1)\n",
    "qc_teleport.draw(output=\"mpl\")"
   ]
  },
  {
   "cell_type": "markdown",
   "id": "558f0859",
   "metadata": {
    "slideshow": {
     "slide_type": "subslide"
    }
   },
   "source": [
    "### Prepare the Teleport experiment Circuit"
   ]
  },
  {
   "cell_type": "code",
   "execution_count": 129,
   "id": "4b63f277",
   "metadata": {
    "slideshow": {
     "slide_type": "-"
    }
   },
   "outputs": [
    {
     "name": "stdout",
     "output_type": "stream",
     "text": [
      "   ┌───┐\n",
      "q: ┤ X ├\n",
      "   └───┘\n",
      "Statevector([0.+0.j, 1.+0.j],\n",
      "            dims=(2,))\n"
     ]
    }
   ],
   "source": [
    "qc_state_prep = QuantumCircuit(1)\n",
    "qc_state_prep.x(0)\n",
    "\n",
    "print(qc_state_prep)\n",
    "\n",
    "target_state_prep = qi.Statevector.from_instruction(qc_state_prep)\n",
    "print(target_state_prep)"
   ]
  },
  {
   "cell_type": "markdown",
   "id": "8eaf8135",
   "metadata": {
    "slideshow": {
     "slide_type": "subslide"
    }
   },
   "source": [
    "### Compose the state initialization with the teleportation"
   ]
  },
  {
   "cell_type": "code",
   "execution_count": 130,
   "id": "ce62c8da",
   "metadata": {
    "slideshow": {
     "slide_type": "-"
    }
   },
   "outputs": [
    {
     "data": {
      "image/png": "[encoded data removed]",
      "text/plain": [
       "<Figure size 1089.61x385.28 with 1 Axes>"
      ]
     },
     "execution_count": 130,
     "metadata": {},
     "output_type": "execute_result"
    }
   ],
   "source": [
    "teleport_qubits = [0, 1, 2]\n",
    "\n",
    "qc_teleport_state = QuantumCircuit(qr, crz, crx, result, name=\"Teleport Hadamard\")\n",
    "\n",
    "def init(qc, qr):\n",
    "    qc.barrier(qr)\n",
    "    qc.reset(qr)\n",
    "    qc.barrier(qr)\n",
    "    qc.reset(qr)\n",
    "    qc.barrier(qr)\n",
    "    qc.reset(qr)\n",
    "    qc.barrier(qr)\n",
    "\n",
    "init(qc_teleport_state, qr)\n",
    "\n",
    "# Prepare state to teleport\n",
    "qc_teleport_state.compose(qc_state_prep, [qr[0]], inplace=True)\n",
    "qc_teleport_state.barrier(qr)\n",
    "\n",
    "# Compose with teleportation circuit\n",
    "qc_teleport_state.compose(qc_teleport, inplace=True)\n",
    "\n",
    "qc_teleport_state.draw(output=\"mpl\")"
   ]
  },
  {
   "cell_type": "markdown",
   "id": "de6f2efa",
   "metadata": {
    "slideshow": {
     "slide_type": "subslide"
    }
   },
   "source": [
    "### Transpile for backend and execute"
   ]
  },
  {
   "cell_type": "code",
   "execution_count": 131,
   "id": "22740204",
   "metadata": {},
   "outputs": [
    {
     "data": {
      "image/png": "[encoded data removed]",
      "text/plain": [
       "<Figure size 1443.53x626.08 with 1 Axes>"
      ]
     },
     "execution_count": 131,
     "metadata": {},
     "output_type": "execute_result"
    }
   ],
   "source": [
    "qc_teleport_experiment = qc_teleport_state.copy()\n",
    "qc_teleport_experiment.measure(qr[2], result)\n",
    "qc_teleport_experiment = transpile(qc_teleport_experiment, backend, initial_layout=teleport_qubits, optimization_level=3)\n",
    "qc_teleport_experiment.draw(output=\"mpl\")"
   ]
  },
  {
   "cell_type": "markdown",
   "id": "548d99a4",
   "metadata": {
    "slideshow": {
     "slide_type": "subslide"
    }
   },
   "source": [
    "## Run our Teleportation Experiment"
   ]
  },
  {
   "cell_type": "code",
   "execution_count": 132,
   "id": "2f1094d1",
   "metadata": {
    "slideshow": {
     "slide_type": "-"
    }
   },
   "outputs": [
    {
     "name": "stdout",
     "output_type": "stream",
     "text": [
      "c5o3fn3rrcfjv06etn30\n"
     ]
    }
   ],
   "source": [
    "teleport_job = run_openqasm3(qc_teleport_experiment, backend, verbose=False)\n",
    "print(teleport_job.job_id())"
   ]
  },
  {
   "cell_type": "code",
   "execution_count": 133,
   "id": "aeda3a9e",
   "metadata": {
    "slideshow": {
     "slide_type": "-"
    }
   },
   "outputs": [
    {
     "name": "stdout",
     "output_type": "stream",
     "text": [
      "All teleportation reults: {'0 0 0': 9, '0 0 1': 140, '0 1 0': 5, '0 1 1': 43, '1 0 0': 12, '1 0 1': 366, '1 1 0': 18, '1 1 1': 407}\n",
      "Marginalized teleportation counts: {'0': 197, '1': 803}\n"
     ]
    }
   ],
   "source": [
    "teleport_result = teleport_job.result()\n",
    "print(f\"All teleportation reults: {teleport_result.get_counts(0)}\")\n",
    "\n",
    "marginal_teleport_counts = marginal_counts(teleport_result.get_counts(0), indices=[2])\n",
    "print(f\"Marginalized teleportation counts: {marginal_teleport_counts}\")"
   ]
  },
  {
   "cell_type": "markdown",
   "id": "8082cf5d",
   "metadata": {
    "slideshow": {
     "slide_type": "subslide"
    }
   },
   "source": [
    "### Measurement Error Mitigation and Tomography\n",
    "As integration is down through Qiskit. We still get to use all of Qiskit's QCVV infrastructure."
   ]
  },
  {
   "cell_type": "code",
   "execution_count": 134,
   "id": "9915fed5",
   "metadata": {},
   "outputs": [],
   "source": [
    "from qiskit.ignis.verification.tomography import state_tomography_circuits, StateTomographyFitter\n",
    "from qiskit.ignis.mitigation.measurement import complete_meas_cal, CompleteMeasFitter\n",
    "from qiskit.visualization import plot_state_city, plot_state_paulivec"
   ]
  },
  {
   "cell_type": "markdown",
   "id": "c1e2d3ba",
   "metadata": {
    "slideshow": {
     "slide_type": "subslide"
    }
   },
   "source": [
    "### Measurement Error Mitigation\n",
    "\n",
    "**Measurement Error Mitigation**: The measurement calibration is used to mitigate measurement errors. The main idea is to prepare all 2𝑛 basis input states and compute the probability of measuring counts in the other basis states. From these calibrations, it is possible to correct the average results of another experiment of interest.\n",
    "\n",
    "Next we'll use measurement error mitigation to correct the results of our final measurements."
   ]
  },
  {
   "cell_type": "code",
   "execution_count": 135,
   "id": "47edd578",
   "metadata": {
    "slideshow": {
     "slide_type": "-"
    }
   },
   "outputs": [],
   "source": [
    "meas_calibs, state_labels = complete_meas_cal(qr=[qr[2]], circlabel='mcal')\n",
    "meas_calibs = transpile(meas_calibs, backend, initial_layout={qr[2]: teleport_qubits[-1]})"
   ]
  },
  {
   "cell_type": "code",
   "execution_count": 136,
   "id": "00295550",
   "metadata": {
    "slideshow": {
     "slide_type": "-"
    }
   },
   "outputs": [
    {
     "data": {
      "image/png": "[encoded data removed]",
      "text/plain": [
       "<Figure size 668.738x144.48 with 1 Axes>"
      ]
     },
     "execution_count": 136,
     "metadata": {},
     "output_type": "execute_result"
    }
   ],
   "source": [
    "meas_calibs[1].draw(idle_wires=False, output=\"mpl\")"
   ]
  },
  {
   "cell_type": "markdown",
   "id": "6f0935fd",
   "metadata": {
    "slideshow": {
     "slide_type": "subslide"
    }
   },
   "source": [
    "### Run mitigation circuits and extract results"
   ]
  },
  {
   "cell_type": "code",
   "execution_count": 137,
   "id": "82047328",
   "metadata": {
    "slideshow": {
     "slide_type": "-"
    }
   },
   "outputs": [
    {
     "name": "stdout",
     "output_type": "stream",
     "text": [
      "Job id: c5o3h32kh8krlc7cs0tg\n"
     ]
    }
   ],
   "source": [
    "meas_calib_job = run_openqasm3(meas_calibs, backend, verbose=False)\n",
    "print(f\"Job id: {meas_calib_job.job_id()}\")"
   ]
  },
  {
   "cell_type": "code",
   "execution_count": 138,
   "id": "1b3e25be",
   "metadata": {
    "slideshow": {
     "slide_type": "-"
    }
   },
   "outputs": [],
   "source": [
    "meas_calib_result = meas_calib_job.result()"
   ]
  },
  {
   "cell_type": "code",
   "execution_count": 139,
   "id": "df51d40d",
   "metadata": {
    "slideshow": {
     "slide_type": "-"
    }
   },
   "outputs": [
    {
     "data": {
      "text/plain": [
       "array([[0.992, 0.015],\n",
       "       [0.008, 0.985]])"
      ]
     },
     "execution_count": 139,
     "metadata": {},
     "output_type": "execute_result"
    }
   ],
   "source": [
    "meas_fitter = CompleteMeasFitter(meas_calib_result, state_labels, circlabel='mcal')\n",
    "meas_fitter.cal_matrix"
   ]
  },
  {
   "cell_type": "code",
   "execution_count": 140,
   "id": "595a96ba",
   "metadata": {
    "slideshow": {
     "slide_type": "-"
    }
   },
   "outputs": [
    {
     "name": "stdout",
     "output_type": "stream",
     "text": [
      "Unmitigated teleportation counts {'0': 197, '1': 803}\n",
      "Mitigated teleportation counts {'0': 186.28439140039004, '1': 813.7156085996099}\n"
     ]
    }
   ],
   "source": [
    "meas_filter = meas_fitter.filter\n",
    "mitigated_teleport_counts = meas_filter.apply(marginal_teleport_counts)\n",
    "\n",
    "print(f\"Unmitigated teleportation counts {marginal_teleport_counts}\")\n",
    "print(f\"Mitigated teleportation counts {mitigated_teleport_counts}\")"
   ]
  },
  {
   "cell_type": "markdown",
   "id": "90ee4933",
   "metadata": {
    "slideshow": {
     "slide_type": "subslide"
    }
   },
   "source": [
    "### Performing State Tomography\n",
    "\n",
    "**Quantum state tomography**: Given a state-preparation circuit that prepares a system in a state, reconstruct a description of the density matrix 𝜌 of the actual state obtained in the system.\n",
    "\n",
    "\n",
    "Next we'll use Qiskit Ignis to apply state tomography to our teleported qubit to verify that we teleported a coherent quantum state."
   ]
  },
  {
   "cell_type": "code",
   "execution_count": 141,
   "id": "90cde689",
   "metadata": {
    "slideshow": {
     "slide_type": "-"
    }
   },
   "outputs": [],
   "source": [
    "def build_state_tomo_circuits(qc_prep, qr, clbits, tomo_qubits, layout):\n",
    "    qst_tomography_circuits = state_tomography_circuits(QuantumCircuit(qr), tomo_qubits)\n",
    "    \n",
    "    tomography_circuits = []\n",
    "    for tomo_circuit in qst_tomography_circuits:\n",
    "        tomo_circ = qc_prep.compose(tomo_circuit, clbits=clbits)\n",
    "        tomo_circ.name = tomo_circuit.name\n",
    "        tomography_circuits.append(tomo_circ)\n",
    "        \n",
    "    return transpile(tomography_circuits, backend, initial_layout=layout)"
   ]
  },
  {
   "cell_type": "code",
   "execution_count": 142,
   "id": "d2a706fb",
   "metadata": {
    "slideshow": {
     "slide_type": "-"
    }
   },
   "outputs": [],
   "source": [
    "qt_qst_tomography_circuits = build_state_tomo_circuits(qc_teleport_state, qr, [result[0]], [qr[2]], teleport_qubits)\n"
   ]
  },
  {
   "cell_type": "markdown",
   "id": "8f575c87",
   "metadata": {
    "slideshow": {
     "slide_type": "subslide"
    }
   },
   "source": [
    "### Run QST Teleportation"
   ]
  },
  {
   "cell_type": "code",
   "execution_count": 143,
   "id": "4d94079a",
   "metadata": {
    "slideshow": {
     "slide_type": "-"
    }
   },
   "outputs": [],
   "source": [
    "teleport_qst_jobs = run_openqasm3(qt_qst_tomography_circuits, backend, verbose=False)"
   ]
  },
  {
   "cell_type": "code",
   "execution_count": 144,
   "id": "a96f8e92",
   "metadata": {
    "slideshow": {
     "slide_type": "-"
    }
   },
   "outputs": [
    {
     "data": {
      "image/png": "[encoded data removed]",
      "text/plain": [
       "<Figure size 1624.13x626.08 with 1 Axes>"
      ]
     },
     "execution_count": 144,
     "metadata": {},
     "output_type": "execute_result"
    }
   ],
   "source": [
    "qt_qst_tomography_circuits[1].draw(output=\"mpl\")"
   ]
  },
  {
   "cell_type": "markdown",
   "id": "396288bf",
   "metadata": {
    "slideshow": {
     "slide_type": "subslide"
    }
   },
   "source": [
    "### Fit QST Results"
   ]
  },
  {
   "cell_type": "code",
   "execution_count": 145,
   "id": "bd930f09",
   "metadata": {
    "slideshow": {
     "slide_type": "-"
    }
   },
   "outputs": [],
   "source": [
    "teleport_qst_result = teleport_qst_jobs.result()\n",
    "marginal_teleport_qst_result = marginal_counts(teleport_qst_result, indices=[2])\n",
    "mitigated_qst_results = meas_filter.apply(marginal_teleport_qst_result)"
   ]
  },
  {
   "cell_type": "code",
   "execution_count": 146,
   "id": "8861bcc5",
   "metadata": {
    "slideshow": {
     "slide_type": "-"
    }
   },
   "outputs": [],
   "source": [
    "qt_qst_tomo_fitter = StateTomographyFitter(mitigated_qst_results, qt_qst_tomography_circuits)"
   ]
  },
  {
   "cell_type": "code",
   "execution_count": 147,
   "id": "9cbbafe0",
   "metadata": {
    "slideshow": {
     "slide_type": "-"
    }
   },
   "outputs": [
    {
     "name": "stdout",
     "output_type": "stream",
     "text": [
      "State Fidelity: F = 0.80757\n"
     ]
    }
   ],
   "source": [
    "qt_qst_rho_fit = qt_qst_tomo_fitter.fit(method='lstsq')\n",
    "qt_qst_F = qi.state_fidelity(qt_qst_rho_fit, target_state_prep)\n",
    "print('State Fidelity: F = {:.5f}'.format(qt_qst_F))"
   ]
  },
  {
   "cell_type": "markdown",
   "id": "b7b223da",
   "metadata": {
    "slideshow": {
     "slide_type": "subslide"
    }
   },
   "source": [
    "### Pauli Vector Plot of the teleported density matrix"
   ]
  },
  {
   "cell_type": "code",
   "execution_count": 148,
   "id": "e8d5e071",
   "metadata": {
    "slideshow": {
     "slide_type": "-"
    }
   },
   "outputs": [
    {
     "data": {
      "image/png": "[encoded data removed]",
      "text/plain": [
       "<Figure size 1008x432 with 2 Axes>"
      ]
     },
     "metadata": {
      "needs_background": "light"
     },
     "output_type": "display_data"
    }
   ],
   "source": [
    "fig, axes = plt.subplots(1, 2, sharey=True)\n",
    "plot_state_paulivec(qt_qst_rho_fit, ax=axes[0]);\n",
    "plot_state_paulivec(qi.DensityMatrix.from_instruction(qc_state_prep), ax=axes[1])\n",
    "axes[1].set_ylabel(None);\n",
    "axes[0].set_title(\"Experiment\")\n",
    "axes[1].set_title(\"Ideal\")\n",
    "plt.tight_layout()\n",
    "fig.set_size_inches(14, 6)"
   ]
  },
  {
   "cell_type": "code",
   "execution_count": null,
   "id": "b8f02d2c",
   "metadata": {
    "slideshow": {
     "slide_type": "skip"
    }
   },
   "outputs": [],
   "source": [
    "plot_state_city(qt_qst_rho_fit, title=\"Experiment\");"
   ]
  },
  {
   "cell_type": "code",
   "execution_count": null,
   "id": "aec6b67f",
   "metadata": {
    "slideshow": {
     "slide_type": "skip"
    }
   },
   "outputs": [],
   "source": [
    "plot_state_city(qi.DensityMatrix.from_instruction(qc_state_prep), title=\"Ideal\");"
   ]
  },
  {
   "cell_type": "markdown",
   "id": "4262c269",
   "metadata": {
    "slideshow": {
     "slide_type": "slide"
    }
   },
   "source": [
    "## Questions and Exercise\n",
    "\n",
    "That concludes the presentation section of this tutorial session. We now invite you to try running OpenQASM3 yourself on IBM hardware by completing the [exercise here](./OpenQASM3-Exercise-IPE.ipynb).\n",
    "\n",
    "Feel free to ask any questions you may have and we will do our best to answer them.\n"
   ]
  }
 ],
 "metadata": {
  "celltoolbar": "Slideshow",
  "kernelspec": {
   "display_name": "Python 3 (ipykernel)",
   "language": "python",
   "name": "python3"
  },
  "language_info": {
   "codemirror_mode": {
    "name": "ipython",
    "version": 3
   },
   "file_extension": ".py",
   "mimetype": "text/x-python",
   "name": "python",
   "nbconvert_exporter": "python",
   "pygments_lexer": "ipython3",
   "version": "3.9.5"
  }
 },
 "nbformat": 4,
 "nbformat_minor": 5
}
