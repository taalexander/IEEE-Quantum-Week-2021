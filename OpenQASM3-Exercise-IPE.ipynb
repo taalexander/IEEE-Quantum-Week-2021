{
 "cells": [
  {
   "cell_type": "markdown",
   "id": "approximate-charger",
   "metadata": {},
   "source": [
    "# Exercise - Iterative Phase Estimation\n",
    "#### @Quantom  & @Micheal Healy & @Hoss Ajallooiean - Qiskit Slack\n",
    "#### @taalexander & @mbhealy & @katetsu - Github\n",
    "\n",
    "Join us on the Qiskit Slack channel [#ieee-tutorial-openqasm3](https://qiskit.slack.com/archives/C02HQLDS3D3)\n",
    "\n",
    "\n",
    "Before trying to complete this notebook make sure you've completed the installation process as described in [Hello OpenQASM3](./Hello-OpenQASM3.ipynb)."
   ]
  },
  {
   "cell_type": "markdown",
   "id": "255d4ad6",
   "metadata": {},
   "source": [
    "The goal of this exercise is to understand how the Iterative Phase Estimation (IPE) algorithm works, why would we use the IPE algorithm instead of the QPE (Quantum Phase Estimation) algorithm and how to build it with Qiskit using the same circuit exploiting reset gate and the `c_if` method that allows to apply gates conditioned by the values stored in a classical register, resulting from previous measurements.\n",
    "\n",
    "If you want a further background on iterative phase estimation have a look at the references below.\n",
    "\n",
    "**References**\n",
    "\n",
    "- [Section 2 of Lab 4: Iterative Phase Estimation (IPE) Algorithm](https://qiskit.org/textbook/ch-labs/Lab04_IterativePhaseEstimation.html#2-iterative-phase-estimation-ipe-algorithm) \n",
    "\n",
    "- [Ch.3.6 Quantum Phase Estimation](https://qiskit.org/textbook/ch-algorithms/quantum-phase-estimation.html)\n",
    "- [Arbitrary accuracy iterative phase estimation algorithm as a two qubit benchmark - arXiv:quant-ph/0610214\n",
    "](https://arxiv.org/abs/quant-ph/0610214)"
   ]
  },
  {
   "cell_type": "markdown",
   "id": "ec10f4bc",
   "metadata": {},
   "source": [
    "### Preamble"
   ]
  },
  {
   "cell_type": "code",
   "execution_count": null,
   "id": "26faeb31",
   "metadata": {},
   "outputs": [],
   "source": [
    "import os\n",
    "from typing import Any, List, Dict, Union\n",
    "\n",
    "import numpy as np\n",
    "import matplotlib.pyplot as plt\n",
    "\n",
    "from qiskit import IBMQ, Aer, QuantumCircuit, QuantumRegister, ClassicalRegister, transpile, execute\n",
    "from qiskit.tools.visualization import plot_histogram\n",
    "from qiskit.result import marginal_counts\n",
    "import qiskit.tools.jupyter\n",
    "\n",
    "from run_openqasm3 import run_openqasm3\n",
    "\n",
    "%matplotlib inline\n",
    "\n",
    "import warnings\n",
    "warnings.filterwarnings(\"ignore\")\n",
    "\n",
    "pi = np.pi"
   ]
  },
  {
   "cell_type": "code",
   "execution_count": null,
   "id": "08c91250",
   "metadata": {},
   "outputs": [],
   "source": [
    "backend_sim = Aer.get_backend('aer_simulator')\n",
    "\n",
    "hub = 'ibm-q-community'\n",
    "group = 'ieee-session'\n",
    "project = 'event-2021'\n",
    "backend_name = 'ibm_perth'\n",
    "\n",
    "IBMQ.load_account()\n",
    "provider = IBMQ.get_provider(hub=hub, group=group, project=project)\n",
    "backend_real = provider.get_backend(backend_name)\n",
    "\n",
    "basis_gates = backend_real.configuration().basis_gates"
   ]
  },
  {
   "cell_type": "code",
   "execution_count": null,
   "id": "1d58f1a3",
   "metadata": {},
   "outputs": [],
   "source": [
    "import qiskit.tools.jupyter\n",
    "backend_real"
   ]
  },
  {
   "cell_type": "code",
   "execution_count": null,
   "id": "2aed9f8c",
   "metadata": {},
   "outputs": [],
   "source": [
    "from qiskit import qasm3\n",
    "\n",
    "def dump_qasm3(circuit, backend=backend_real):\n",
    "    return qasm3.Exporter(includes=[], basis_gates=basis_gates+[\"reset\"], disable_constants=True).dumps(circuit)"
   ]
  },
  {
   "cell_type": "markdown",
   "id": "prescribed-skill",
   "metadata": {},
   "source": [
    "## Conditined gates: the c_if method"
   ]
  },
  {
   "cell_type": "markdown",
   "id": "protective-tender",
   "metadata": {},
   "source": [
    "Before starting the IPE algorithm, we will give a brief tutorial about the Qiskit conditional method, c_if, as it goes into building the IPE circuit.\n",
    "\n",
    "`c_if` is a function (actually a method of the gate class) to perform conditioned operations based on the value stored previously in a classical register. With this feature you can apply gates after a measurement in the same circuit conditioned by the measurement outcome.\n",
    "\n",
    "For example, the following code will execute the $X$ gate if the value of the classical register is $0$."
   ]
  },
  {
   "cell_type": "code",
   "execution_count": null,
   "id": "spoken-willow",
   "metadata": {},
   "outputs": [],
   "source": [
    "q = QuantumRegister(1,'q')\n",
    "c = ClassicalRegister(1,'c')\n",
    "qc = QuantumCircuit(q, c)\n",
    "qc.h(0)\n",
    "qc.measure(0,0)\n",
    "qc.x(0).c_if(c, 0)\n",
    "qc.draw(output='mpl')"
   ]
  },
  {
   "cell_type": "markdown",
   "id": "worth-speech",
   "metadata": {},
   "source": [
    "We highlight that the method c_if expects as the first argument a whole classical register, not a single classical bit (or a list of classical bits), and as the second argument a value in decimal representation (a non-negative integer), not the value of a single bit, 0, or 1 (or a list/string of binary digits).\n",
    "\n",
    "Let's make another example. Consider that we want to perform a bit flip on the third qubit after the measurements in the following circuit, when the results of the measurement of $q_0$ and $q_1$ are both $1$."
   ]
  },
  {
   "cell_type": "code",
   "execution_count": null,
   "id": "excellent-count",
   "metadata": {},
   "outputs": [],
   "source": [
    "q = QuantumRegister(3,'q')\n",
    "c = ClassicalRegister(3,'c')\n",
    "qc = QuantumCircuit(q, c)\n",
    "qc.h(q[0])\n",
    "qc.h(q[1])\n",
    "qc.h(q[2])\n",
    "qc.barrier()\n",
    "qc.measure(q,c)\n",
    "qc.draw('mpl')"
   ]
  },
  {
   "cell_type": "markdown",
   "id": "entertaining-adams",
   "metadata": {},
   "source": [
    "We want to apply the $X$ gate, only if both the results of the measurement of $q_1$ and $q_2$ are $1$. We can do this using the c_if method, conditioning the application of $X$ depending on the value passed as argument to c_if.\n",
    "\n",
    "We will have to encode the value to pass to the c_if method such that it will check the values 011 and 111 (in binary representation), since it does not matter what is in the rightmost position.\n",
    "\n",
    "The 2 integer values in decimal representation:"
   ]
  },
  {
   "cell_type": "markdown",
   "id": "finished-failure",
   "metadata": {},
   "source": [
    "\n",
    "<img src=\"figs/binary.png\" width=\"50%\" >\n"
   ]
  },
  {
   "cell_type": "markdown",
   "id": "brutal-slope",
   "metadata": {},
   "source": [
    "We can check the solutions using the bin() method in python (the prefix `0b` indicates the binary format)."
   ]
  },
  {
   "cell_type": "code",
   "execution_count": null,
   "id": "boxed-electronics",
   "metadata": {},
   "outputs": [],
   "source": [
    "print(bin(3))\n",
    "print(bin(7))"
   ]
  },
  {
   "cell_type": "markdown",
   "id": "d47e359e-ad29-4fb7-a428-cfcb69904257",
   "metadata": {},
   "source": [
    "So we have to apply $X$ to $q_2$ using c_if  two times, one for each value corresponding to 011 and 111.\n",
    "\n",
    "*Note*: Conditioning on multiple bits is not supported just yet through IBM backends but it will be very soon."
   ]
  },
  {
   "cell_type": "code",
   "execution_count": null,
   "id": "following-surfing",
   "metadata": {},
   "outputs": [],
   "source": [
    "q = QuantumRegister(3,'q')\n",
    "c = ClassicalRegister(3,'c')\n",
    "qc = QuantumCircuit(q, c)\n",
    "qc.h(0)\n",
    "qc.h(1)\n",
    "qc.h(2)\n",
    "qc.barrier()\n",
    "qc.measure(q,c)\n",
    "\n",
    "qc.x(2).c_if(c, 3) # for the 011 case\n",
    "qc.x(2).c_if(c, 7) # for the 111 case\n",
    "\n",
    "qc.draw(output='mpl')"
   ]
  },
  {
   "cell_type": "markdown",
   "id": "african-adams",
   "metadata": {},
   "source": [
    "## IPE\n",
    "\n",
    "The motivation for using the IPE algorithm is that QPE algorithm works fine for short depth circuits but when the circuit starts to grow, it doesn't work properly due to gate noise and decoherence times.\n",
    "\n",
    "The detailed explanation of how the algorithm works can be found in [Iterative Phase Estimation (IPE) Algorithm](https://qiskit.org/textbook/ch-labs/Lab04_IterativePhaseEstimation.html#2-iterative-phase-estimation-ipe-algorithm). To understand QPE in depth, you can see also [Ch.3.6 Quantum Phase Estimation](https://qiskit.org/textbook/ch-algorithms/quantum-phase-estimation.html).\n",
    "\n",
    "### IPE example with a 1-qubit gate for $U$\n",
    "\n",
    "We want to apply the IPE algorithm to estimate the phase for a 1-qubit operator $U$.  For example, here we use the $S$-gate.\n",
    "\n",
    "Let's apply the IPE algorithm to estimate the phase for $S$-gate.\n",
    "Its matrix is \n",
    "$$ S = \n",
    "\\begin{bmatrix}\n",
    "1 & 0\\\\\n",
    "0 & e^\\frac{i\\pi}{2}\\\\ \n",
    "\\end{bmatrix}$$\n",
    "\n",
    "That is, the $S$-gate adds a phase $\\pi/2$ to the state $|1\\rangle$, leaving unchanged the phase of the state $|0\\rangle$\n",
    "\n",
    "$$ S|1\\rangle = e^\\frac{i\\pi}{2}|1\\rangle $$\n",
    "\n",
    "In the following, we will use the notation and terms used in [Section 2 of lab 4](https://qiskit.org/textbook/ch-labs/Lab04_IterativePhaseEstimation.html#2-iterative-phase-estimation-ipe-algorithm) of the Qiskit textbook.\n",
    "\n",
    "Let's consider to estimate the phase $\\phi=\\frac{\\pi}{2}$ for the eigenstate $|1\\rangle$, we should find $\\varphi=\\frac{1}{4}$ (where $\\phi = 2 \\pi \\varphi$). Therefore to estimate the phase we need exactly 2 phase bits, i.e. $m=2$, since $1/2^2=1/4$. So $\\varphi=0.\\varphi_1\\varphi_2$.\n",
    "\n",
    "Remember from the theory that for the IPE algorithm, $m$ is also the number of iterations, so we need only $2$ iterations or steps.\n",
    "\n",
    "First, we initialize the circuit. IPE works with only 1 auxiliary qubit, instead of $m$ counting qubits of the QPE algorithm. Therefore, we need 2 qubits, 1 auxiliary qubit and 1 for the eigenstate of $U$-gate, and a classical register of 2 bits, for the phase bits $\\varphi_1$, $\\varphi_2$."
   ]
  },
  {
   "cell_type": "code",
   "execution_count": null,
   "id": "4f0a5164",
   "metadata": {},
   "outputs": [],
   "source": [
    "qubits = [1, 2]"
   ]
  },
  {
   "cell_type": "markdown",
   "id": "326baa6c",
   "metadata": {},
   "source": [
    "### Exercise #1.A - Conditional Reset\n",
    "\n",
    "Prepare the ground state for each of our qubits using three rounds of reset. \n",
    "\n",
    "First we'll do this with the conditional application of the $X$ gate based on a measurement. Use what you learned in the earlier presentation and about the `c_if` gate modifier to do this.\n",
    "\n",
    "Keep in mind that if you implement comnditional reset yourself, you will have to add additional classical registers to the circuit to store the meaurement result in. You will then have to modify the analysis code later on to ignore those preparation results using `marginal_counts` function supplied by Qiskit."
   ]
  },
  {
   "cell_type": "code",
   "execution_count": null,
   "id": "72e56d4b",
   "metadata": {},
   "outputs": [],
   "source": [
    "def reset_conditional(qc, q, reset_reg):\n",
    "    \"\"\"Implement the conditional reset on the input circuit, qubit and classical register using c_if.\"\"\"\n",
    "    qc.barrier(q)\n",
    "    # Add reset here\n",
    "    qc.barrier(q)\n",
    "\n",
    "qr = QuantumRegister(2)\n",
    "reset_reg0 = ClassicalRegister(1, \"reset_reg0\")\n",
    "reset_reg1 = ClassicalRegister(1, \"reset_reg1\")\n",
    "cr0 = ClassicalRegister(1, \"reset_result0\")\n",
    "cr1 = ClassicalRegister(1, \"reset_result1\")\n",
    "\n",
    "qc_reset = QuantumCircuit(qr, reset_reg0, reset_reg1, cr0, cr1)\n",
    "reset_conditional(qc_reset, qr[0], reset_reg0)\n",
    "reset_conditional(qc_reset, qr[1], reset_reg1)\n",
    "\n",
    "qc_reset.measure(0, cr0)\n",
    "qc_reset.measure(0, cr1)\n",
    "\n",
    "qc_reset = transpile(qc_reset, backend_real, initial_layout=qubits)\n",
    "qc_reset.draw(output=\"mpl\")"
   ]
  },
  {
   "cell_type": "code",
   "execution_count": null,
   "id": "ed7bfe24",
   "metadata": {},
   "outputs": [],
   "source": [
    "# Hint use qiskit.result.marginal_counts to remove the first three classical register results\n",
    "# from your counts\n",
    "def pad_counts(counts):\n",
    "    new_counts = {}\n",
    "    for k, v in counts.items():\n",
    "        if len(k) < 4:\n",
    "            for _ in range(4-len(k)):\n",
    "                k = \"0\"+k\n",
    "        new_counts[k] = v\n",
    "    return new_counts\n",
    "\n",
    "def remove_reset_results(counts):\n",
    "    return marginal_counts(pad_counts(counts), indices=[0, 1])\n",
    "\n"
   ]
  },
  {
   "cell_type": "code",
   "execution_count": null,
   "id": "478b26db",
   "metadata": {},
   "outputs": [],
   "source": [
    "reset_job = run_openqasm3(qc_reset, backend_real, verbose=False)\n",
    "print(f\"Reset job id: {reset_job.job_id()}\")\n",
    "reset_result = reset_job.result()\n",
    "reset_counts = remove_reset_results(reset_result.get_counts(0))\n",
    "print(f\"The results of your reset circuit are {reset_counts}\")\n",
    "assert reset_counts[\"00\"] > 700"
   ]
  },
  {
   "cell_type": "markdown",
   "id": "e80c0e61",
   "metadata": {},
   "source": [
    "### Exercise #1.B - Qubit Initialization\n",
    "\n",
    "To best initialize the qubit oftentimes multiple rounds of reset are required to drive the qubit as close as possible to the ground state which is determined by the readout errors, gate errors, and thermal populations of the system.\n",
    "\n",
    "Below implement the `init` operation using three rounds of the builtin `QuantumCircuit.reset`, this handles the extra measurement bit required for you and is also more efficient in hardware."
   ]
  },
  {
   "cell_type": "code",
   "execution_count": null,
   "id": "caba5e9a",
   "metadata": {},
   "outputs": [],
   "source": [
    "def init(qc, q):\n",
    "    \"\"\"Implement a qubit initialization using three rounds of qubit reset.\"\"\"\n",
    "    qc.barrier(q)\n",
    "    # Add init here\n",
    "    qc.barrier(q)\n",
    "    \n",
    "\n",
    "    \n",
    "qr = QuantumRegister(2)\n",
    "cr0 = ClassicalRegister(1, \"reset_result0\")\n",
    "cr1 = ClassicalRegister(1, \"reset_result1\")\n",
    "\n",
    "qc_init = QuantumCircuit(qr, cr0, cr1)\n",
    "init(qc_init, qr[0])\n",
    "init(qc_init, qr[1])\n",
    "\n",
    "qc_init.measure(0, cr0)\n",
    "qc_init.measure(0, cr1)\n",
    "\n",
    "qc_init = transpile(qc_init, backend_real, initial_layout=qubits)\n",
    "qc_init.draw(output=\"mpl\")"
   ]
  },
  {
   "cell_type": "code",
   "execution_count": null,
   "id": "4e5b4a5c",
   "metadata": {},
   "outputs": [],
   "source": [
    "init_job = run_openqasm3(qc_init, backend_real, verbose=False)\n",
    "print(f\"Qubit init job id: {init_job.job_id()}\")\n",
    "init_result = init_job.result()\n",
    "init_counts = init_result.get_counts()\n",
    "print(f\"The results of your reset circuit are {init_counts}\")\n",
    "assert init_counts[\"0 0\"] > 900"
   ]
  },
  {
   "cell_type": "markdown",
   "id": "4d511361",
   "metadata": {},
   "source": [
    "## Exercise #1.c - Compare your initialization results against your reset\n",
    "\n",
    "Did you do better? Why might that be?"
   ]
  },
  {
   "cell_type": "code",
   "execution_count": null,
   "id": "fe50dfdd",
   "metadata": {},
   "outputs": [],
   "source": [
    "# Compare your counts here."
   ]
  },
  {
   "cell_type": "markdown",
   "id": "dominican-camcorder",
   "metadata": {},
   "source": [
    "## IPE - First step\n",
    "\n",
    "Now we build the quantum circuit for the first step, that is, the first iteration of the algorithm, to estimate the least significant phase bit $\\varphi_m$, in this case $\\varphi_2$. For the first step we have 4 sub-steps:\n",
    "- qubit initialization\n",
    "- initialization\n",
    "- application of the Controlled-$U$ gates\n",
    "- measure of the auxiliary qubit in x-basis\n"
   ]
  },
  {
   "cell_type": "code",
   "execution_count": null,
   "id": "d4672274",
   "metadata": {},
   "outputs": [],
   "source": [
    "q = QuantumRegister(nq,'q')\n",
    "c0 = ClassicalRegister(1,'c0')\n",
    "c1 = ClassicalRegister(1, 'c1')\n",
    "qc_S = QuantumCircuit(q, c0, c1)"
   ]
  },
  {
   "cell_type": "markdown",
   "id": "1a0befe4",
   "metadata": {},
   "source": [
    "### Exercise 2. - Qubit Initialization\n",
    "\n",
    "Before we begin using our qubits we must initialize them. Use the `init` function you wrote earlier to initialize the qubits in in qc_S below."
   ]
  },
  {
   "cell_type": "code",
   "execution_count": null,
   "id": "bfee1cc2",
   "metadata": {},
   "outputs": [],
   "source": [
    "def init_ipe_circuit(qc):\n",
    "    \"\"\"Initialize the qubits in your IPE circuit.\"\"\"\n",
    "    qc.barrier(0, 1)\n",
    "    # Place your code here\n",
    "    qc.barrier(0, 1)\n",
    "\n",
    "init_ipe_circuit(qc_S)\n",
    "qc_S.draw(output=\"mpl\")"
   ]
  },
  {
   "cell_type": "markdown",
   "id": "2c0c02ca",
   "metadata": {},
   "source": [
    "### Exercise 3. Eigenstate Initialization\n",
    "\n",
    "The initialization consists of application the Hadamard gate to the auxiliary qubit and the preparation of the eigenstate $|1\\rangle$. Complete this below by filling in the function.\n",
    "\n",
    "**hint**: To prepare the $|1>$ state recall how we corrected for an inadverdent $|1>$ in our conditional qubit reset."
   ]
  },
  {
   "cell_type": "code",
   "execution_count": null,
   "id": "classified-pipeline",
   "metadata": {},
   "outputs": [],
   "source": [
    "def initialize_eigenstate(qc):\n",
    "    \"\"\"Initialize the eigenstate and prepare our ancilla qubit\"\"\"\n",
    "    pass\n",
    "\n",
    "initialize_eigenstate(qc_S)\n",
    "    \n",
    "qc_S.draw('mpl')\n"
   ]
  },
  {
   "cell_type": "markdown",
   "id": "pacific-momentum",
   "metadata": {},
   "source": [
    "#### Application of the Controlled-$U$ gates\n",
    "\n",
    "Then we have to apply $2^t$ times the Controlled-$U$ operators (see also in the docs [Two qubit gates](https://qiskit.org/documentation/tutorials/circuits/3_summary_of_quantum_operations.html#Two-qubit-gates)), that, in this example, is the Controlled-$S$ gate ($CS$ for short).\n",
    "\n",
    "To implement $CS$ in the circuit, since $S$ is a phase gate, we can use the controlled phase gate $\\text{CP}(\\theta)$, with $\\theta=\\pi/2$."
   ]
  },
  {
   "cell_type": "code",
   "execution_count": null,
   "id": "410d3936-190e-4950-80bc-8902ea7f6bac",
   "metadata": {},
   "outputs": [],
   "source": [
    "cu_circ = QuantumCircuit(2)\n",
    "cu_circ.cp(theta,0,1)\n",
    "cu_circ.draw('mpl')\n"
   ]
  },
  {
   "cell_type": "markdown",
   "id": "e9e49bfb-b699-4219-8133-08190551daeb",
   "metadata": {},
   "source": [
    "Let's apply $2^t$ times $\\text{CP}(\\pi/2)$. Since for the first step $t=m-1$, and $m=2$, we have $2^t=2$."
   ]
  },
  {
   "cell_type": "code",
   "execution_count": null,
   "id": "9ff2f325",
   "metadata": {},
   "outputs": [],
   "source": [
    "theta = 1 * np.pi / 2"
   ]
  },
  {
   "cell_type": "code",
   "execution_count": null,
   "id": "tender-variation",
   "metadata": {},
   "outputs": [],
   "source": [
    "for _ in range(2**(m-1)):\n",
    "    qc_S.cp(theta,0,1)\n",
    "qc_S.draw('mpl')"
   ]
  },
  {
   "cell_type": "markdown",
   "id": "continued-worst",
   "metadata": {},
   "source": [
    "## Exercise 5 - Measure in x-basis\n",
    "\n",
    "Finally, we perform the measurenment of the auxiliary qubit in x-basis. Fill out the function to perform the x_measure and then apply it. \n",
    "\n",
    "\n",
    "In this way we obtain the phase bit $\\varphi_2$ and store it in the classical bit $c_0$.\n",
    "\n",
    "**hint**: The eigenvectors of the Hadamard gate are the basis vectors of the x-basis."
   ]
  },
  {
   "cell_type": "code",
   "execution_count": null,
   "id": "considerable-sense",
   "metadata": {},
   "outputs": [],
   "source": [
    "def x_measurement(qc, qubit, cbit):\n",
    "    \"\"\"Measure 'qubit' in the X-basis, and store the result in 'cbit'\"\"\"\n",
    "    pass\n",
    "    \n",
    "x_measurement(qc_S, q[0], c0)\n",
    "qc_S.draw('mpl')\n"
   ]
  },
  {
   "cell_type": "markdown",
   "id": "lasting-difference",
   "metadata": {},
   "source": [
    "### Subsequent steps (2nd step)\n",
    "\n",
    "Now we build the quantum circuit for the other remaining steps, in this example, only the second one.\n",
    "In these steps we have 4 sub-steps: the 3 sub-steps as in the first step and, in the middle, the additional step of the phase correction\n",
    "- initialization with reset\n",
    "- phase correction\n",
    "- application of the Control-$U$ gates\n",
    "- measure of the auxiliary qubit in x-basis\n"
   ]
  },
  {
   "cell_type": "markdown",
   "id": "c435ad6a",
   "metadata": {},
   "source": [
    "## Exercise 6 - Reset the auxiliary qubit\n",
    "\n",
    "As we want to perform an iterative algorithm in the same circuit, we need to reset the auxiliary qubit $q0$ after the measument gate and initialize it again as before to recycle the qubit. \n",
    "\n",
    "Use the builtin `qc.reset` operation to perform a reset of qubit 0 followed by the hadamard operation."
   ]
  },
  {
   "cell_type": "code",
   "execution_count": null,
   "id": "123e4313-366a-4ea4-b672-7b30cbdccc15",
   "metadata": {},
   "outputs": [],
   "source": [
    "def reset_auxiliary(qc):\n",
    "    \"\"\"Reset your auxiliary qubit and then reinitialize it to |+>.\"\"\"\n",
    "    pass\n",
    "\n",
    "reset_auxiliary(qc_S)\n",
    "qc_S.draw('mpl')"
   ]
  },
  {
   "cell_type": "markdown",
   "id": "fcd145b2-870e-42a9-9178-df21a77b2354",
   "metadata": {},
   "source": [
    "#### Phase correction (for step 2)\n",
    "As seen in the theory, in order to extract the phase bit $\\varphi_{1}$, we perform a phase correction of $-\\pi\\varphi_2/2$.\n",
    "Of course, we need to apply the phase correction in the circuit only if the phase bit $\\varphi_2=1$, i.e. we have to apply the phase correction of $-\\pi/2$ only if the classical bit $c_0$ is 1.\n",
    "\n",
    "So, after the reset we apply the phase gate $P(\\theta)$ with phase $\\theta=-\\pi/2$ conditioned by the classical bit $c_0$ ($=\\varphi_2$) using the `c_if` method.\n",
    "So as we saw in the first part of this tutorial, we have to use the `c_if` method with a value of 1, as $1_{10} = 001_{2}$ (the subscripts $_{10}$ and $_2$ indicate the decimal and binary representations)."
   ]
  },
  {
   "cell_type": "code",
   "execution_count": null,
   "id": "shaped-fluid",
   "metadata": {},
   "outputs": [],
   "source": [
    "qc_S.p(-np.pi/2,0).c_if(c0, 1)\n",
    "qc_S.draw('mpl')"
   ]
  },
  {
   "cell_type": "markdown",
   "id": "moving-vertical",
   "metadata": {},
   "source": [
    "#### Application of the Control-$U$ gates and x-measurement (for step 2)\n",
    "\n",
    "We apply the $CU$ operations as we did in the first step. For the second step we have $t=m-2$, hence $2^t=1$. So we apply $\\text{CP}(\\pi/2)$ once. And then we perform the x-measurment of the qubit $q_0$, storing the result, the phase bit $\\varphi_1$, in the bit $c_1$ of classical register."
   ]
  },
  {
   "cell_type": "code",
   "execution_count": null,
   "id": "f92082c4",
   "metadata": {},
   "outputs": [],
   "source": [
    "nq = 2\n",
    "m = 2"
   ]
  },
  {
   "cell_type": "code",
   "execution_count": null,
   "id": "thrown-galaxy",
   "metadata": {},
   "outputs": [],
   "source": [
    "## 2^t c-U operations (with t=m-2)\n",
    "for _ in range(2**(m-2)):\n",
    "    qc_S.cp(theta,0,1)\n",
    "\n",
    "x_measurement(qc_S, q[0], c1) "
   ]
  },
  {
   "cell_type": "markdown",
   "id": "supported-speaking",
   "metadata": {},
   "source": [
    "Et voilà, we have our final circuit"
   ]
  },
  {
   "cell_type": "code",
   "execution_count": null,
   "id": "former-plain",
   "metadata": {
    "scrolled": true
   },
   "outputs": [],
   "source": [
    "qc_S.draw('mpl')"
   ]
  },
  {
   "cell_type": "markdown",
   "id": "falling-ballot",
   "metadata": {},
   "source": [
    "Let's execute the circuit with the `qasm_simulator`, the simulator without noise that run locally."
   ]
  },
  {
   "cell_type": "code",
   "execution_count": null,
   "id": "2043b28b",
   "metadata": {},
   "outputs": [],
   "source": [
    "count = execute(qc_S, backend_sim).result().get_counts()\n",
    "count"
   ]
  },
  {
   "cell_type": "code",
   "execution_count": null,
   "id": "included-jesus",
   "metadata": {},
   "outputs": [],
   "source": [
    "count0 = remove_reset_results(execute(qc_S, backend_sim).result().get_counts())\n",
    "\n",
    "key_new = [str(int(key,2)/2**m) for key in list(count0.keys())]\n",
    "count1 = dict(zip(key_new, count0.values()))\n",
    "\n",
    "fig, ax = plt.subplots(1,2)\n",
    "plot_histogram(count0, ax=ax[0])\n",
    "plot_histogram(count1, ax=ax[1])\n",
    "plt.tight_layout()"
   ]
  },
  {
   "cell_type": "markdown",
   "id": "dried-tribute",
   "metadata": {},
   "source": [
    "In the picture we have the same histograms but on the left we have on the x-axis the string with phase bits $\\varphi_1$, $\\varphi_2$ and on the right the actual phase $\\varphi$ in decimal representation.\n",
    "\n",
    "As we expected we have found $\\varphi=\\frac{1}{4}=0.25$ with a $100\\%$ probability."
   ]
  },
  {
   "cell_type": "markdown",
   "id": "6b89c3d5",
   "metadata": {},
   "source": [
    "## Now lets run on real hardware"
   ]
  },
  {
   "cell_type": "code",
   "execution_count": null,
   "id": "9aa20c42",
   "metadata": {},
   "outputs": [],
   "source": [
    "qc_S_backend = transpile(qc_S, backend_real, initial_layout=qubits, optimization_level=3)\n",
    "qc_S_backend.draw(output=\"mpl\")"
   ]
  },
  {
   "cell_type": "code",
   "execution_count": null,
   "id": "1f7b070b",
   "metadata": {},
   "outputs": [],
   "source": [
    "real_ipe_job = run_openqasm3(qc_S_backend, backend_real, verbose=False)\n"
   ]
  },
  {
   "cell_type": "code",
   "execution_count": null,
   "id": "814d9301",
   "metadata": {},
   "outputs": [],
   "source": [
    "real_counts0 = remove_reset_results(real_ipe_job.result().get_counts())\n",
    "real_key_new = [str(int(key,2)/2**m) for key in list(real_counts0.keys())]\n",
    "real_counts1 = dict(zip(real_key_new, real_counts0.values()))\n",
    "\n",
    "fig, ax = plt.subplots(1,2)\n",
    "plot_histogram(real_counts0, ax=ax[0])\n",
    "plot_histogram(real_counts1, ax=ax[1])\n",
    "plt.tight_layout()"
   ]
  },
  {
   "cell_type": "markdown",
   "id": "97d422f9",
   "metadata": {},
   "source": [
    "## Exercise 7 - Try estimating the phase of another Gate\n",
    "Now that we have estimated the phase of the $S$ gate, lets try finding the phase of another gate. Lets this by using that fact that we implemented IPE for `S` using the $P(\\theta)$ gate. Choose a new instance of the $P$ gate that can be estimated with two bits of precision and rerun."
   ]
  },
  {
   "cell_type": "markdown",
   "id": "28402f23",
   "metadata": {},
   "source": [
    "## Exercise 8 (Stretch goal) - Adding an extra bit of precision\n",
    "Now that we have mastered IPE for two bits of precision, lets try adding a third bit. Modify the code of this exercise to add another round of IPE.\n",
    "\n"
   ]
  },
  {
   "cell_type": "code",
   "execution_count": null,
   "id": "together-projector",
   "metadata": {},
   "outputs": [],
   "source": [
    "import qiskit.tools.jupyter\n",
    "%qiskit_version_table\n",
    "%qiskit_copyright"
   ]
  }
 ],
 "metadata": {
  "kernelspec": {
   "display_name": "Python 3 (ipykernel)",
   "language": "python",
   "name": "python3"
  },
  "language_info": {
   "codemirror_mode": {
    "name": "ipython",
    "version": 3
   },
   "file_extension": ".py",
   "mimetype": "text/x-python",
   "name": "python",
   "nbconvert_exporter": "python",
   "pygments_lexer": "ipython3",
   "version": "3.9.5"
  }
 },
 "nbformat": 4,
 "nbformat_minor": 5
}
